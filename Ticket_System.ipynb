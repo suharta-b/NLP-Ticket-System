{
  "cells": [
    {
      "cell_type": "code",
      "source": [
        "# Mounting google drive\n",
        "from google.colab import drive\n",
        "drive.mount('/content/drive')"
      ],
      "metadata": {
        "colab": {
          "base_uri": "https://localhost:8080/"
        },
        "id": "B8IzSStl6bDj",
        "outputId": "c8254f7b-fc00-48cb-d08a-4bd362d27ea9"
      },
      "execution_count": 19,
      "outputs": [
        {
          "output_type": "stream",
          "name": "stdout",
          "text": [
            "Drive already mounted at /content/drive; to attempt to forcibly remount, call drive.mount(\"/content/drive\", force_remount=True).\n"
          ]
        }
      ]
    },
    {
      "cell_type": "code",
      "execution_count": 18,
      "metadata": {
        "id": "uLdSDFjB6OYQ"
      },
      "outputs": [],
      "source": [
        "from IPython.core.interactiveshell import InteractiveShell\n",
        "InteractiveShell.ast_node_interactivity = \"all\"\n",
        "\n",
        "# Importing libraries data visualisation & exploratory data analysis\n",
        "import numpy as np\n",
        "import pandas as pd\n",
        "import seaborn as sns\n",
        "import matplotlib.pyplot as plt\n",
        "\n",
        "# Importing libraries data loading\n",
        "import json\n",
        "from pandas.io.json import json_normalize\n",
        "\n",
        "# Importing libraries for text data pre-processing\n",
        "import re, string\n",
        "import nltk, spacy\n",
        "from nltk.stem import WordNetLemmatizer\n",
        "from textblob import TextBlob\n",
        "from wordcloud import WordCloud, STOPWORDS\n",
        "\n",
        "# Importing libraries for vectorization & topic modelling\n",
        "from sklearn.feature_extraction.text import CountVectorizer, TfidfVectorizer, TfidfTransformer\n",
        "from sklearn.decomposition import NMF\n",
        "from gensim.corpora.dictionary import Dictionary\n",
        "from gensim.models.nmf import Nmf\n",
        "from gensim.models.coherencemodel import CoherenceModel\n",
        "from operator import itemgetter\n",
        "\n",
        "\n",
        "# Importing libraries for supervised model training\n",
        "from sklearn.linear_model import LogisticRegression\n",
        "from sklearn.ensemble import RandomForestClassifier\n",
        "import xgboost as xgb\n",
        "\n",
        "\n",
        "# Importing algorithms for performing hyper-parameter tuning\n",
        "from sklearn.model_selection import GridSearchCV, RandomizedSearchCV\n",
        "\n",
        "# Importing various performance metrics for performance analysis of algorithms\n",
        "from sklearn.metrics import accuracy_score, classification_report, confusion_matrix\n",
        "\n",
        "import itertools\n",
        "\n",
        "# For ignoring the warnings\n",
        "import warnings\n",
        "warnings. filterwarnings(\"ignore\")"
      ]
    },
    {
      "cell_type": "code",
      "execution_count": 20,
      "metadata": {
        "id": "Je4Nqs6p6OYW"
      },
      "outputs": [],
      "source": [
        "# Loading the json file\n",
        "client_json = open('/content/drive/MyDrive/Assignment1/Assignment1/Client_data.json',)\n",
        "\n",
        "# Returning a json object so that it can be converted into a dataframe in next step\n",
        "client_data = json.load(client_json)"
      ]
    },
    {
      "cell_type": "code",
      "execution_count": 21,
      "metadata": {
        "colab": {
          "base_uri": "https://localhost:8080/",
          "height": 456
        },
        "id": "Y9JTrkMi6OYX",
        "outputId": "eaef3a64-5f1f-485f-b511-45017e9cb572"
      },
      "outputs": [
        {
          "output_type": "execute_result",
          "data": {
            "text/plain": [
              "                _index      _type      _id  _score   _source.tags  \\\n",
              "0  complaint-public-v2  complaint  3211475     0.0           None   \n",
              "1  complaint-public-v2  complaint  3229299     0.0  Servicemember   \n",
              "2  complaint-public-v2  complaint  3199379     0.0           None   \n",
              "3  complaint-public-v2  complaint  2673060     0.0           None   \n",
              "4  complaint-public-v2  complaint  3203545     0.0           None   \n",
              "\n",
              "  _source.zip_code _source.complaint_id                       _source.issue  \\\n",
              "0            90301              3211475   Attempts to collect debt not owed   \n",
              "1            319XX              3229299     Written notification about debt   \n",
              "2            77069              3199379  Other features, terms, or problems   \n",
              "3            48066              2673060      Trouble during payment process   \n",
              "4            10473              3203545                    Fees or interest   \n",
              "\n",
              "       _source.date_received _source.state  ... _source.company_response  \\\n",
              "0  2019-04-13T12:00:00-05:00            CA  ...  Closed with explanation   \n",
              "1  2019-05-01T12:00:00-05:00            GA  ...  Closed with explanation   \n",
              "2  2019-04-02T12:00:00-05:00            TX  ...  Closed with explanation   \n",
              "3  2017-09-13T12:00:00-05:00            MI  ...  Closed with explanation   \n",
              "4  2019-04-05T12:00:00-05:00            NY  ...  Closed with explanation   \n",
              "\n",
              "        _source.company _source.submitted_via _source.date_sent_to_company  \\\n",
              "0  JPMORGAN CHASE & CO.                   Web    2019-04-13T12:00:00-05:00   \n",
              "1  JPMORGAN CHASE & CO.                   Web    2019-05-01T12:00:00-05:00   \n",
              "2  JPMORGAN CHASE & CO.                   Web    2019-04-02T12:00:00-05:00   \n",
              "3  JPMORGAN CHASE & CO.                   Web    2017-09-14T12:00:00-05:00   \n",
              "4  JPMORGAN CHASE & CO.              Referral    2019-04-05T12:00:00-05:00   \n",
              "\n",
              "  _source.company_public_response                         _source.sub_product  \\\n",
              "0                            None                            Credit card debt   \n",
              "1                            None                            Credit card debt   \n",
              "2                            None  General-purpose credit card or charge card   \n",
              "3                            None                  Conventional home mortgage   \n",
              "4                            None  General-purpose credit card or charge card   \n",
              "\n",
              "  _source.timely                    _source.complaint_what_happened  \\\n",
              "0            Yes                                                      \n",
              "1            Yes  Good morning my name is XXXX XXXX and I apprec...   \n",
              "2            Yes  I upgraded my XXXX XXXX card in XX/XX/2018 and...   \n",
              "3            Yes                                                      \n",
              "4            Yes                                                      \n",
              "\n",
              "                                  _source.sub_issue  \\\n",
              "0                                 Debt is not yours   \n",
              "1  Didn't receive enough information to verify debt   \n",
              "2             Problem with rewards from credit card   \n",
              "3                                              None   \n",
              "4                         Charged too much interest   \n",
              "\n",
              "  _source.consumer_consent_provided  \n",
              "0              Consent not provided  \n",
              "1                  Consent provided  \n",
              "2                  Consent provided  \n",
              "3              Consent not provided  \n",
              "4                               N/A  \n",
              "\n",
              "[5 rows x 22 columns]"
            ],
            "text/html": [
              "\n",
              "  <div id=\"df-867cab43-476e-4f99-b629-c8411311d899\">\n",
              "    <div class=\"colab-df-container\">\n",
              "      <div>\n",
              "<style scoped>\n",
              "    .dataframe tbody tr th:only-of-type {\n",
              "        vertical-align: middle;\n",
              "    }\n",
              "\n",
              "    .dataframe tbody tr th {\n",
              "        vertical-align: top;\n",
              "    }\n",
              "\n",
              "    .dataframe thead th {\n",
              "        text-align: right;\n",
              "    }\n",
              "</style>\n",
              "<table border=\"1\" class=\"dataframe\">\n",
              "  <thead>\n",
              "    <tr style=\"text-align: right;\">\n",
              "      <th></th>\n",
              "      <th>_index</th>\n",
              "      <th>_type</th>\n",
              "      <th>_id</th>\n",
              "      <th>_score</th>\n",
              "      <th>_source.tags</th>\n",
              "      <th>_source.zip_code</th>\n",
              "      <th>_source.complaint_id</th>\n",
              "      <th>_source.issue</th>\n",
              "      <th>_source.date_received</th>\n",
              "      <th>_source.state</th>\n",
              "      <th>...</th>\n",
              "      <th>_source.company_response</th>\n",
              "      <th>_source.company</th>\n",
              "      <th>_source.submitted_via</th>\n",
              "      <th>_source.date_sent_to_company</th>\n",
              "      <th>_source.company_public_response</th>\n",
              "      <th>_source.sub_product</th>\n",
              "      <th>_source.timely</th>\n",
              "      <th>_source.complaint_what_happened</th>\n",
              "      <th>_source.sub_issue</th>\n",
              "      <th>_source.consumer_consent_provided</th>\n",
              "    </tr>\n",
              "  </thead>\n",
              "  <tbody>\n",
              "    <tr>\n",
              "      <th>0</th>\n",
              "      <td>complaint-public-v2</td>\n",
              "      <td>complaint</td>\n",
              "      <td>3211475</td>\n",
              "      <td>0.0</td>\n",
              "      <td>None</td>\n",
              "      <td>90301</td>\n",
              "      <td>3211475</td>\n",
              "      <td>Attempts to collect debt not owed</td>\n",
              "      <td>2019-04-13T12:00:00-05:00</td>\n",
              "      <td>CA</td>\n",
              "      <td>...</td>\n",
              "      <td>Closed with explanation</td>\n",
              "      <td>JPMORGAN CHASE &amp; CO.</td>\n",
              "      <td>Web</td>\n",
              "      <td>2019-04-13T12:00:00-05:00</td>\n",
              "      <td>None</td>\n",
              "      <td>Credit card debt</td>\n",
              "      <td>Yes</td>\n",
              "      <td></td>\n",
              "      <td>Debt is not yours</td>\n",
              "      <td>Consent not provided</td>\n",
              "    </tr>\n",
              "    <tr>\n",
              "      <th>1</th>\n",
              "      <td>complaint-public-v2</td>\n",
              "      <td>complaint</td>\n",
              "      <td>3229299</td>\n",
              "      <td>0.0</td>\n",
              "      <td>Servicemember</td>\n",
              "      <td>319XX</td>\n",
              "      <td>3229299</td>\n",
              "      <td>Written notification about debt</td>\n",
              "      <td>2019-05-01T12:00:00-05:00</td>\n",
              "      <td>GA</td>\n",
              "      <td>...</td>\n",
              "      <td>Closed with explanation</td>\n",
              "      <td>JPMORGAN CHASE &amp; CO.</td>\n",
              "      <td>Web</td>\n",
              "      <td>2019-05-01T12:00:00-05:00</td>\n",
              "      <td>None</td>\n",
              "      <td>Credit card debt</td>\n",
              "      <td>Yes</td>\n",
              "      <td>Good morning my name is XXXX XXXX and I apprec...</td>\n",
              "      <td>Didn't receive enough information to verify debt</td>\n",
              "      <td>Consent provided</td>\n",
              "    </tr>\n",
              "    <tr>\n",
              "      <th>2</th>\n",
              "      <td>complaint-public-v2</td>\n",
              "      <td>complaint</td>\n",
              "      <td>3199379</td>\n",
              "      <td>0.0</td>\n",
              "      <td>None</td>\n",
              "      <td>77069</td>\n",
              "      <td>3199379</td>\n",
              "      <td>Other features, terms, or problems</td>\n",
              "      <td>2019-04-02T12:00:00-05:00</td>\n",
              "      <td>TX</td>\n",
              "      <td>...</td>\n",
              "      <td>Closed with explanation</td>\n",
              "      <td>JPMORGAN CHASE &amp; CO.</td>\n",
              "      <td>Web</td>\n",
              "      <td>2019-04-02T12:00:00-05:00</td>\n",
              "      <td>None</td>\n",
              "      <td>General-purpose credit card or charge card</td>\n",
              "      <td>Yes</td>\n",
              "      <td>I upgraded my XXXX XXXX card in XX/XX/2018 and...</td>\n",
              "      <td>Problem with rewards from credit card</td>\n",
              "      <td>Consent provided</td>\n",
              "    </tr>\n",
              "    <tr>\n",
              "      <th>3</th>\n",
              "      <td>complaint-public-v2</td>\n",
              "      <td>complaint</td>\n",
              "      <td>2673060</td>\n",
              "      <td>0.0</td>\n",
              "      <td>None</td>\n",
              "      <td>48066</td>\n",
              "      <td>2673060</td>\n",
              "      <td>Trouble during payment process</td>\n",
              "      <td>2017-09-13T12:00:00-05:00</td>\n",
              "      <td>MI</td>\n",
              "      <td>...</td>\n",
              "      <td>Closed with explanation</td>\n",
              "      <td>JPMORGAN CHASE &amp; CO.</td>\n",
              "      <td>Web</td>\n",
              "      <td>2017-09-14T12:00:00-05:00</td>\n",
              "      <td>None</td>\n",
              "      <td>Conventional home mortgage</td>\n",
              "      <td>Yes</td>\n",
              "      <td></td>\n",
              "      <td>None</td>\n",
              "      <td>Consent not provided</td>\n",
              "    </tr>\n",
              "    <tr>\n",
              "      <th>4</th>\n",
              "      <td>complaint-public-v2</td>\n",
              "      <td>complaint</td>\n",
              "      <td>3203545</td>\n",
              "      <td>0.0</td>\n",
              "      <td>None</td>\n",
              "      <td>10473</td>\n",
              "      <td>3203545</td>\n",
              "      <td>Fees or interest</td>\n",
              "      <td>2019-04-05T12:00:00-05:00</td>\n",
              "      <td>NY</td>\n",
              "      <td>...</td>\n",
              "      <td>Closed with explanation</td>\n",
              "      <td>JPMORGAN CHASE &amp; CO.</td>\n",
              "      <td>Referral</td>\n",
              "      <td>2019-04-05T12:00:00-05:00</td>\n",
              "      <td>None</td>\n",
              "      <td>General-purpose credit card or charge card</td>\n",
              "      <td>Yes</td>\n",
              "      <td></td>\n",
              "      <td>Charged too much interest</td>\n",
              "      <td>N/A</td>\n",
              "    </tr>\n",
              "  </tbody>\n",
              "</table>\n",
              "<p>5 rows × 22 columns</p>\n",
              "</div>\n",
              "      <button class=\"colab-df-convert\" onclick=\"convertToInteractive('df-867cab43-476e-4f99-b629-c8411311d899')\"\n",
              "              title=\"Convert this dataframe to an interactive table.\"\n",
              "              style=\"display:none;\">\n",
              "        \n",
              "  <svg xmlns=\"http://www.w3.org/2000/svg\" height=\"24px\"viewBox=\"0 0 24 24\"\n",
              "       width=\"24px\">\n",
              "    <path d=\"M0 0h24v24H0V0z\" fill=\"none\"/>\n",
              "    <path d=\"M18.56 5.44l.94 2.06.94-2.06 2.06-.94-2.06-.94-.94-2.06-.94 2.06-2.06.94zm-11 1L8.5 8.5l.94-2.06 2.06-.94-2.06-.94L8.5 2.5l-.94 2.06-2.06.94zm10 10l.94 2.06.94-2.06 2.06-.94-2.06-.94-.94-2.06-.94 2.06-2.06.94z\"/><path d=\"M17.41 7.96l-1.37-1.37c-.4-.4-.92-.59-1.43-.59-.52 0-1.04.2-1.43.59L10.3 9.45l-7.72 7.72c-.78.78-.78 2.05 0 2.83L4 21.41c.39.39.9.59 1.41.59.51 0 1.02-.2 1.41-.59l7.78-7.78 2.81-2.81c.8-.78.8-2.07 0-2.86zM5.41 20L4 18.59l7.72-7.72 1.47 1.35L5.41 20z\"/>\n",
              "  </svg>\n",
              "      </button>\n",
              "      \n",
              "  <style>\n",
              "    .colab-df-container {\n",
              "      display:flex;\n",
              "      flex-wrap:wrap;\n",
              "      gap: 12px;\n",
              "    }\n",
              "\n",
              "    .colab-df-convert {\n",
              "      background-color: #E8F0FE;\n",
              "      border: none;\n",
              "      border-radius: 50%;\n",
              "      cursor: pointer;\n",
              "      display: none;\n",
              "      fill: #1967D2;\n",
              "      height: 32px;\n",
              "      padding: 0 0 0 0;\n",
              "      width: 32px;\n",
              "    }\n",
              "\n",
              "    .colab-df-convert:hover {\n",
              "      background-color: #E2EBFA;\n",
              "      box-shadow: 0px 1px 2px rgba(60, 64, 67, 0.3), 0px 1px 3px 1px rgba(60, 64, 67, 0.15);\n",
              "      fill: #174EA6;\n",
              "    }\n",
              "\n",
              "    [theme=dark] .colab-df-convert {\n",
              "      background-color: #3B4455;\n",
              "      fill: #D2E3FC;\n",
              "    }\n",
              "\n",
              "    [theme=dark] .colab-df-convert:hover {\n",
              "      background-color: #434B5C;\n",
              "      box-shadow: 0px 1px 3px 1px rgba(0, 0, 0, 0.15);\n",
              "      filter: drop-shadow(0px 1px 2px rgba(0, 0, 0, 0.3));\n",
              "      fill: #FFFFFF;\n",
              "    }\n",
              "  </style>\n",
              "\n",
              "      <script>\n",
              "        const buttonEl =\n",
              "          document.querySelector('#df-867cab43-476e-4f99-b629-c8411311d899 button.colab-df-convert');\n",
              "        buttonEl.style.display =\n",
              "          google.colab.kernel.accessAllowed ? 'block' : 'none';\n",
              "\n",
              "        async function convertToInteractive(key) {\n",
              "          const element = document.querySelector('#df-867cab43-476e-4f99-b629-c8411311d899');\n",
              "          const dataTable =\n",
              "            await google.colab.kernel.invokeFunction('convertToInteractive',\n",
              "                                                     [key], {});\n",
              "          if (!dataTable) return;\n",
              "\n",
              "          const docLinkHtml = 'Like what you see? Visit the ' +\n",
              "            '<a target=\"_blank\" href=https://colab.research.google.com/notebooks/data_table.ipynb>data table notebook</a>'\n",
              "            + ' to learn more about interactive tables.';\n",
              "          element.innerHTML = '';\n",
              "          dataTable['output_type'] = 'display_data';\n",
              "          await google.colab.output.renderOutput(dataTable, element);\n",
              "          const docLink = document.createElement('div');\n",
              "          docLink.innerHTML = docLinkHtml;\n",
              "          element.appendChild(docLink);\n",
              "        }\n",
              "      </script>\n",
              "    </div>\n",
              "  </div>\n",
              "  "
            ]
          },
          "metadata": {},
          "execution_count": 21
        }
      ],
      "source": [
        "# Creating a dataframe from the json object\n",
        "ticket_system = json_normalize(client_data)\n",
        "\n",
        "# Viewing first 5 rows of the dataset\n",
        "ticket_system.head()"
      ]
    },
    {
      "cell_type": "code",
      "execution_count": 22,
      "metadata": {
        "colab": {
          "base_uri": "https://localhost:8080/"
        },
        "id": "-m47ZPv96OYY",
        "outputId": "982edf6b-32fd-465d-a871-99e939ef9b6c"
      },
      "outputs": [
        {
          "output_type": "stream",
          "name": "stdout",
          "text": [
            "<class 'pandas.core.frame.DataFrame'>\n",
            "RangeIndex: 78313 entries, 0 to 78312\n",
            "Data columns (total 22 columns):\n",
            " #   Column                             Non-Null Count  Dtype  \n",
            "---  ------                             --------------  -----  \n",
            " 0   _index                             78313 non-null  object \n",
            " 1   _type                              78313 non-null  object \n",
            " 2   _id                                78313 non-null  object \n",
            " 3   _score                             78313 non-null  float64\n",
            " 4   _source.tags                       10900 non-null  object \n",
            " 5   _source.zip_code                   71556 non-null  object \n",
            " 6   _source.complaint_id               78313 non-null  object \n",
            " 7   _source.issue                      78313 non-null  object \n",
            " 8   _source.date_received              78313 non-null  object \n",
            " 9   _source.state                      76322 non-null  object \n",
            " 10  _source.consumer_disputed          78313 non-null  object \n",
            " 11  _source.product                    78313 non-null  object \n",
            " 12  _source.company_response           78313 non-null  object \n",
            " 13  _source.company                    78313 non-null  object \n",
            " 14  _source.submitted_via              78313 non-null  object \n",
            " 15  _source.date_sent_to_company       78313 non-null  object \n",
            " 16  _source.company_public_response    4 non-null      object \n",
            " 17  _source.sub_product                67742 non-null  object \n",
            " 18  _source.timely                     78313 non-null  object \n",
            " 19  _source.complaint_what_happened    78313 non-null  object \n",
            " 20  _source.sub_issue                  32016 non-null  object \n",
            " 21  _source.consumer_consent_provided  77305 non-null  object \n",
            "dtypes: float64(1), object(21)\n",
            "memory usage: 13.1+ MB\n"
          ]
        }
      ],
      "source": [
        "# Basic information about dataset\n",
        "ticket_system.info()"
      ]
    },
    {
      "cell_type": "code",
      "execution_count": 23,
      "metadata": {
        "colab": {
          "base_uri": "https://localhost:8080/",
          "height": 300
        },
        "id": "Jc4DlYkP6OYY",
        "outputId": "e8b82f4b-ecb8-466f-d0af-6066278feda9"
      },
      "outputs": [
        {
          "output_type": "execute_result",
          "data": {
            "text/plain": [
              "        _score\n",
              "count  78313.0\n",
              "mean       0.0\n",
              "std        0.0\n",
              "min        0.0\n",
              "25%        0.0\n",
              "50%        0.0\n",
              "75%        0.0\n",
              "max        0.0"
            ],
            "text/html": [
              "\n",
              "  <div id=\"df-898b9d67-6516-4c0b-973b-cce183d32f1c\">\n",
              "    <div class=\"colab-df-container\">\n",
              "      <div>\n",
              "<style scoped>\n",
              "    .dataframe tbody tr th:only-of-type {\n",
              "        vertical-align: middle;\n",
              "    }\n",
              "\n",
              "    .dataframe tbody tr th {\n",
              "        vertical-align: top;\n",
              "    }\n",
              "\n",
              "    .dataframe thead th {\n",
              "        text-align: right;\n",
              "    }\n",
              "</style>\n",
              "<table border=\"1\" class=\"dataframe\">\n",
              "  <thead>\n",
              "    <tr style=\"text-align: right;\">\n",
              "      <th></th>\n",
              "      <th>_score</th>\n",
              "    </tr>\n",
              "  </thead>\n",
              "  <tbody>\n",
              "    <tr>\n",
              "      <th>count</th>\n",
              "      <td>78313.0</td>\n",
              "    </tr>\n",
              "    <tr>\n",
              "      <th>mean</th>\n",
              "      <td>0.0</td>\n",
              "    </tr>\n",
              "    <tr>\n",
              "      <th>std</th>\n",
              "      <td>0.0</td>\n",
              "    </tr>\n",
              "    <tr>\n",
              "      <th>min</th>\n",
              "      <td>0.0</td>\n",
              "    </tr>\n",
              "    <tr>\n",
              "      <th>25%</th>\n",
              "      <td>0.0</td>\n",
              "    </tr>\n",
              "    <tr>\n",
              "      <th>50%</th>\n",
              "      <td>0.0</td>\n",
              "    </tr>\n",
              "    <tr>\n",
              "      <th>75%</th>\n",
              "      <td>0.0</td>\n",
              "    </tr>\n",
              "    <tr>\n",
              "      <th>max</th>\n",
              "      <td>0.0</td>\n",
              "    </tr>\n",
              "  </tbody>\n",
              "</table>\n",
              "</div>\n",
              "      <button class=\"colab-df-convert\" onclick=\"convertToInteractive('df-898b9d67-6516-4c0b-973b-cce183d32f1c')\"\n",
              "              title=\"Convert this dataframe to an interactive table.\"\n",
              "              style=\"display:none;\">\n",
              "        \n",
              "  <svg xmlns=\"http://www.w3.org/2000/svg\" height=\"24px\"viewBox=\"0 0 24 24\"\n",
              "       width=\"24px\">\n",
              "    <path d=\"M0 0h24v24H0V0z\" fill=\"none\"/>\n",
              "    <path d=\"M18.56 5.44l.94 2.06.94-2.06 2.06-.94-2.06-.94-.94-2.06-.94 2.06-2.06.94zm-11 1L8.5 8.5l.94-2.06 2.06-.94-2.06-.94L8.5 2.5l-.94 2.06-2.06.94zm10 10l.94 2.06.94-2.06 2.06-.94-2.06-.94-.94-2.06-.94 2.06-2.06.94z\"/><path d=\"M17.41 7.96l-1.37-1.37c-.4-.4-.92-.59-1.43-.59-.52 0-1.04.2-1.43.59L10.3 9.45l-7.72 7.72c-.78.78-.78 2.05 0 2.83L4 21.41c.39.39.9.59 1.41.59.51 0 1.02-.2 1.41-.59l7.78-7.78 2.81-2.81c.8-.78.8-2.07 0-2.86zM5.41 20L4 18.59l7.72-7.72 1.47 1.35L5.41 20z\"/>\n",
              "  </svg>\n",
              "      </button>\n",
              "      \n",
              "  <style>\n",
              "    .colab-df-container {\n",
              "      display:flex;\n",
              "      flex-wrap:wrap;\n",
              "      gap: 12px;\n",
              "    }\n",
              "\n",
              "    .colab-df-convert {\n",
              "      background-color: #E8F0FE;\n",
              "      border: none;\n",
              "      border-radius: 50%;\n",
              "      cursor: pointer;\n",
              "      display: none;\n",
              "      fill: #1967D2;\n",
              "      height: 32px;\n",
              "      padding: 0 0 0 0;\n",
              "      width: 32px;\n",
              "    }\n",
              "\n",
              "    .colab-df-convert:hover {\n",
              "      background-color: #E2EBFA;\n",
              "      box-shadow: 0px 1px 2px rgba(60, 64, 67, 0.3), 0px 1px 3px 1px rgba(60, 64, 67, 0.15);\n",
              "      fill: #174EA6;\n",
              "    }\n",
              "\n",
              "    [theme=dark] .colab-df-convert {\n",
              "      background-color: #3B4455;\n",
              "      fill: #D2E3FC;\n",
              "    }\n",
              "\n",
              "    [theme=dark] .colab-df-convert:hover {\n",
              "      background-color: #434B5C;\n",
              "      box-shadow: 0px 1px 3px 1px rgba(0, 0, 0, 0.15);\n",
              "      filter: drop-shadow(0px 1px 2px rgba(0, 0, 0, 0.3));\n",
              "      fill: #FFFFFF;\n",
              "    }\n",
              "  </style>\n",
              "\n",
              "      <script>\n",
              "        const buttonEl =\n",
              "          document.querySelector('#df-898b9d67-6516-4c0b-973b-cce183d32f1c button.colab-df-convert');\n",
              "        buttonEl.style.display =\n",
              "          google.colab.kernel.accessAllowed ? 'block' : 'none';\n",
              "\n",
              "        async function convertToInteractive(key) {\n",
              "          const element = document.querySelector('#df-898b9d67-6516-4c0b-973b-cce183d32f1c');\n",
              "          const dataTable =\n",
              "            await google.colab.kernel.invokeFunction('convertToInteractive',\n",
              "                                                     [key], {});\n",
              "          if (!dataTable) return;\n",
              "\n",
              "          const docLinkHtml = 'Like what you see? Visit the ' +\n",
              "            '<a target=\"_blank\" href=https://colab.research.google.com/notebooks/data_table.ipynb>data table notebook</a>'\n",
              "            + ' to learn more about interactive tables.';\n",
              "          element.innerHTML = '';\n",
              "          dataTable['output_type'] = 'display_data';\n",
              "          await google.colab.output.renderOutput(dataTable, element);\n",
              "          const docLink = document.createElement('div');\n",
              "          docLink.innerHTML = docLinkHtml;\n",
              "          element.appendChild(docLink);\n",
              "        }\n",
              "      </script>\n",
              "    </div>\n",
              "  </div>\n",
              "  "
            ]
          },
          "metadata": {},
          "execution_count": 23
        }
      ],
      "source": [
        "# Statistical summary of the numerical features\n",
        "ticket_system.describe()"
      ]
    },
    {
      "cell_type": "code",
      "execution_count": 24,
      "metadata": {
        "id": "no1b6YEa6OYZ"
      },
      "outputs": [],
      "source": [
        "# Replacing blank in '_source.complaint_what_happened' feature with NaN values\n",
        "ticket_system['_source.complaint_what_happened'].replace(\"\", np.nan, inplace = True)"
      ]
    },
    {
      "cell_type": "code",
      "execution_count": 25,
      "metadata": {
        "colab": {
          "base_uri": "https://localhost:8080/"
        },
        "id": "HvbdKGDu6OYZ",
        "outputId": "88890a9d-6f88-41b1-ff4d-a3926e89b79d"
      },
      "outputs": [
        {
          "output_type": "execute_result",
          "data": {
            "text/plain": [
              "_index                                   0\n",
              "_type                                    0\n",
              "_id                                      0\n",
              "_score                                   0\n",
              "_source.tags                         67413\n",
              "_source.zip_code                      6757\n",
              "_source.complaint_id                     0\n",
              "_source.issue                            0\n",
              "_source.date_received                    0\n",
              "_source.state                         1991\n",
              "_source.consumer_disputed                0\n",
              "_source.product                          0\n",
              "_source.company_response                 0\n",
              "_source.company                          0\n",
              "_source.submitted_via                    0\n",
              "_source.date_sent_to_company             0\n",
              "_source.company_public_response      78309\n",
              "_source.sub_product                  10571\n",
              "_source.timely                           0\n",
              "_source.complaint_what_happened      57241\n",
              "_source.sub_issue                    46297\n",
              "_source.consumer_consent_provided     1008\n",
              "dtype: int64"
            ]
          },
          "metadata": {},
          "execution_count": 25
        }
      ],
      "source": [
        "# Finding out the null values in each feature of the dataset\n",
        "ticket_system.isnull().sum()"
      ]
    },
    {
      "cell_type": "code",
      "execution_count": 26,
      "metadata": {
        "colab": {
          "base_uri": "https://localhost:8080/"
        },
        "id": "0s-HdxwL6OYa",
        "outputId": "a8039daf-d6e4-49c1-8736-8609ea056654"
      },
      "outputs": [
        {
          "output_type": "execute_result",
          "data": {
            "text/plain": [
              "_index                                0.00\n",
              "_type                                 0.00\n",
              "_id                                   0.00\n",
              "_score                                0.00\n",
              "_source.tags                         86.08\n",
              "_source.zip_code                      8.63\n",
              "_source.complaint_id                  0.00\n",
              "_source.issue                         0.00\n",
              "_source.date_received                 0.00\n",
              "_source.state                         2.54\n",
              "_source.consumer_disputed             0.00\n",
              "_source.product                       0.00\n",
              "_source.company_response              0.00\n",
              "_source.company                       0.00\n",
              "_source.submitted_via                 0.00\n",
              "_source.date_sent_to_company          0.00\n",
              "_source.company_public_response      99.99\n",
              "_source.sub_product                  13.50\n",
              "_source.timely                        0.00\n",
              "_source.complaint_what_happened      73.09\n",
              "_source.sub_issue                    59.12\n",
              "_source.consumer_consent_provided     1.29\n",
              "dtype: float64"
            ]
          },
          "metadata": {},
          "execution_count": 26
        }
      ],
      "source": [
        "# Calculating the percentage of null values in each features\n",
        "ticket_system_null_value_percentage = round(ticket_system.isna().sum() * 100 / 78313, 2)\n",
        "ticket_system_null_value_percentage"
      ]
    },
    {
      "cell_type": "code",
      "execution_count": 27,
      "metadata": {
        "id": "g6kAsTKH6OYb"
      },
      "outputs": [],
      "source": [
        "# Dropping rows having null values in '_source.complaint_what_happened' feature\n",
        "ticket_system.dropna(subset=['_source.complaint_what_happened'], inplace = True)"
      ]
    },
    {
      "cell_type": "code",
      "execution_count": 28,
      "metadata": {
        "colab": {
          "base_uri": "https://localhost:8080/"
        },
        "id": "siosNBii6OYc",
        "outputId": "cd77dfa1-444a-44d7-bc37-770c15a782b0"
      },
      "outputs": [
        {
          "output_type": "execute_result",
          "data": {
            "text/plain": [
              "(21072, 22)"
            ]
          },
          "metadata": {},
          "execution_count": 28
        }
      ],
      "source": [
        "# Viewing the shape of the dataset after dropping rows\n",
        "ticket_system.shape"
      ]
    },
    {
      "cell_type": "code",
      "execution_count": 29,
      "metadata": {
        "id": "69i7pdcG6OYc"
      },
      "outputs": [],
      "source": [
        "# Removing '_' from each features\n",
        "ticket_system.columns = [re.sub('^_','',col) for col in ticket_system.columns]\n",
        "\n",
        "# Removing 'source' from each features\n",
        "ticket_system.columns = [re.sub(r\"^\\bsource\\b\\.\", \"\", col) for col in ticket_system.columns]"
      ]
    },
    {
      "cell_type": "code",
      "execution_count": 30,
      "metadata": {
        "colab": {
          "base_uri": "https://localhost:8080/",
          "height": 629
        },
        "id": "lBfJq22C6OYd",
        "outputId": "7bf985d9-01e6-473e-ce98-a434869d83c0"
      },
      "outputs": [
        {
          "output_type": "execute_result",
          "data": {
            "text/plain": [
              "                  index       type       id  score           tags zip_code  \\\n",
              "1   complaint-public-v2  complaint  3229299    0.0  Servicemember    319XX   \n",
              "2   complaint-public-v2  complaint  3199379    0.0           None    77069   \n",
              "10  complaint-public-v2  complaint  3233499    0.0           None    104XX   \n",
              "11  complaint-public-v2  complaint  3180294    0.0           None    750XX   \n",
              "14  complaint-public-v2  complaint  3224980    0.0           None    920XX   \n",
              "\n",
              "   complaint_id                                 issue  \\\n",
              "1       3229299       Written notification about debt   \n",
              "2       3199379    Other features, terms, or problems   \n",
              "10      3233499  Incorrect information on your report   \n",
              "11      3180294  Incorrect information on your report   \n",
              "14      3224980                   Managing an account   \n",
              "\n",
              "                date_received state  ...         company_response  \\\n",
              "1   2019-05-01T12:00:00-05:00    GA  ...  Closed with explanation   \n",
              "2   2019-04-02T12:00:00-05:00    TX  ...  Closed with explanation   \n",
              "10  2019-05-06T12:00:00-05:00    NY  ...  Closed with explanation   \n",
              "11  2019-03-14T12:00:00-05:00    TX  ...  Closed with explanation   \n",
              "14  2019-04-27T12:00:00-05:00    CA  ...  Closed with explanation   \n",
              "\n",
              "                 company submitted_via       date_sent_to_company  \\\n",
              "1   JPMORGAN CHASE & CO.           Web  2019-05-01T12:00:00-05:00   \n",
              "2   JPMORGAN CHASE & CO.           Web  2019-04-02T12:00:00-05:00   \n",
              "10  JPMORGAN CHASE & CO.           Web  2019-05-06T12:00:00-05:00   \n",
              "11  JPMORGAN CHASE & CO.           Web  2019-03-15T12:00:00-05:00   \n",
              "14  JPMORGAN CHASE & CO.           Web  2019-04-27T12:00:00-05:00   \n",
              "\n",
              "   company_public_response                                 sub_product timely  \\\n",
              "1                     None                            Credit card debt    Yes   \n",
              "2                     None  General-purpose credit card or charge card    Yes   \n",
              "10                    None              Other personal consumer report    Yes   \n",
              "11                    None                            Credit reporting    Yes   \n",
              "14                    None                            Checking account    Yes   \n",
              "\n",
              "                              complaint_what_happened  \\\n",
              "1   Good morning my name is XXXX XXXX and I apprec...   \n",
              "2   I upgraded my XXXX XXXX card in XX/XX/2018 and...   \n",
              "10  Chase Card was reported on XX/XX/2019. However...   \n",
              "11  On XX/XX/2018, while trying to book a XXXX  XX...   \n",
              "14  my grand son give me check for {$1600.00} i de...   \n",
              "\n",
              "                                           sub_issue consumer_consent_provided  \n",
              "1   Didn't receive enough information to verify debt          Consent provided  \n",
              "2              Problem with rewards from credit card          Consent provided  \n",
              "10               Information belongs to someone else          Consent provided  \n",
              "11               Information belongs to someone else          Consent provided  \n",
              "14      Funds not handled or disbursed as instructed          Consent provided  \n",
              "\n",
              "[5 rows x 22 columns]"
            ],
            "text/html": [
              "\n",
              "  <div id=\"df-7336fb48-79e1-4f30-b16c-c17b32ba236b\">\n",
              "    <div class=\"colab-df-container\">\n",
              "      <div>\n",
              "<style scoped>\n",
              "    .dataframe tbody tr th:only-of-type {\n",
              "        vertical-align: middle;\n",
              "    }\n",
              "\n",
              "    .dataframe tbody tr th {\n",
              "        vertical-align: top;\n",
              "    }\n",
              "\n",
              "    .dataframe thead th {\n",
              "        text-align: right;\n",
              "    }\n",
              "</style>\n",
              "<table border=\"1\" class=\"dataframe\">\n",
              "  <thead>\n",
              "    <tr style=\"text-align: right;\">\n",
              "      <th></th>\n",
              "      <th>index</th>\n",
              "      <th>type</th>\n",
              "      <th>id</th>\n",
              "      <th>score</th>\n",
              "      <th>tags</th>\n",
              "      <th>zip_code</th>\n",
              "      <th>complaint_id</th>\n",
              "      <th>issue</th>\n",
              "      <th>date_received</th>\n",
              "      <th>state</th>\n",
              "      <th>...</th>\n",
              "      <th>company_response</th>\n",
              "      <th>company</th>\n",
              "      <th>submitted_via</th>\n",
              "      <th>date_sent_to_company</th>\n",
              "      <th>company_public_response</th>\n",
              "      <th>sub_product</th>\n",
              "      <th>timely</th>\n",
              "      <th>complaint_what_happened</th>\n",
              "      <th>sub_issue</th>\n",
              "      <th>consumer_consent_provided</th>\n",
              "    </tr>\n",
              "  </thead>\n",
              "  <tbody>\n",
              "    <tr>\n",
              "      <th>1</th>\n",
              "      <td>complaint-public-v2</td>\n",
              "      <td>complaint</td>\n",
              "      <td>3229299</td>\n",
              "      <td>0.0</td>\n",
              "      <td>Servicemember</td>\n",
              "      <td>319XX</td>\n",
              "      <td>3229299</td>\n",
              "      <td>Written notification about debt</td>\n",
              "      <td>2019-05-01T12:00:00-05:00</td>\n",
              "      <td>GA</td>\n",
              "      <td>...</td>\n",
              "      <td>Closed with explanation</td>\n",
              "      <td>JPMORGAN CHASE &amp; CO.</td>\n",
              "      <td>Web</td>\n",
              "      <td>2019-05-01T12:00:00-05:00</td>\n",
              "      <td>None</td>\n",
              "      <td>Credit card debt</td>\n",
              "      <td>Yes</td>\n",
              "      <td>Good morning my name is XXXX XXXX and I apprec...</td>\n",
              "      <td>Didn't receive enough information to verify debt</td>\n",
              "      <td>Consent provided</td>\n",
              "    </tr>\n",
              "    <tr>\n",
              "      <th>2</th>\n",
              "      <td>complaint-public-v2</td>\n",
              "      <td>complaint</td>\n",
              "      <td>3199379</td>\n",
              "      <td>0.0</td>\n",
              "      <td>None</td>\n",
              "      <td>77069</td>\n",
              "      <td>3199379</td>\n",
              "      <td>Other features, terms, or problems</td>\n",
              "      <td>2019-04-02T12:00:00-05:00</td>\n",
              "      <td>TX</td>\n",
              "      <td>...</td>\n",
              "      <td>Closed with explanation</td>\n",
              "      <td>JPMORGAN CHASE &amp; CO.</td>\n",
              "      <td>Web</td>\n",
              "      <td>2019-04-02T12:00:00-05:00</td>\n",
              "      <td>None</td>\n",
              "      <td>General-purpose credit card or charge card</td>\n",
              "      <td>Yes</td>\n",
              "      <td>I upgraded my XXXX XXXX card in XX/XX/2018 and...</td>\n",
              "      <td>Problem with rewards from credit card</td>\n",
              "      <td>Consent provided</td>\n",
              "    </tr>\n",
              "    <tr>\n",
              "      <th>10</th>\n",
              "      <td>complaint-public-v2</td>\n",
              "      <td>complaint</td>\n",
              "      <td>3233499</td>\n",
              "      <td>0.0</td>\n",
              "      <td>None</td>\n",
              "      <td>104XX</td>\n",
              "      <td>3233499</td>\n",
              "      <td>Incorrect information on your report</td>\n",
              "      <td>2019-05-06T12:00:00-05:00</td>\n",
              "      <td>NY</td>\n",
              "      <td>...</td>\n",
              "      <td>Closed with explanation</td>\n",
              "      <td>JPMORGAN CHASE &amp; CO.</td>\n",
              "      <td>Web</td>\n",
              "      <td>2019-05-06T12:00:00-05:00</td>\n",
              "      <td>None</td>\n",
              "      <td>Other personal consumer report</td>\n",
              "      <td>Yes</td>\n",
              "      <td>Chase Card was reported on XX/XX/2019. However...</td>\n",
              "      <td>Information belongs to someone else</td>\n",
              "      <td>Consent provided</td>\n",
              "    </tr>\n",
              "    <tr>\n",
              "      <th>11</th>\n",
              "      <td>complaint-public-v2</td>\n",
              "      <td>complaint</td>\n",
              "      <td>3180294</td>\n",
              "      <td>0.0</td>\n",
              "      <td>None</td>\n",
              "      <td>750XX</td>\n",
              "      <td>3180294</td>\n",
              "      <td>Incorrect information on your report</td>\n",
              "      <td>2019-03-14T12:00:00-05:00</td>\n",
              "      <td>TX</td>\n",
              "      <td>...</td>\n",
              "      <td>Closed with explanation</td>\n",
              "      <td>JPMORGAN CHASE &amp; CO.</td>\n",
              "      <td>Web</td>\n",
              "      <td>2019-03-15T12:00:00-05:00</td>\n",
              "      <td>None</td>\n",
              "      <td>Credit reporting</td>\n",
              "      <td>Yes</td>\n",
              "      <td>On XX/XX/2018, while trying to book a XXXX  XX...</td>\n",
              "      <td>Information belongs to someone else</td>\n",
              "      <td>Consent provided</td>\n",
              "    </tr>\n",
              "    <tr>\n",
              "      <th>14</th>\n",
              "      <td>complaint-public-v2</td>\n",
              "      <td>complaint</td>\n",
              "      <td>3224980</td>\n",
              "      <td>0.0</td>\n",
              "      <td>None</td>\n",
              "      <td>920XX</td>\n",
              "      <td>3224980</td>\n",
              "      <td>Managing an account</td>\n",
              "      <td>2019-04-27T12:00:00-05:00</td>\n",
              "      <td>CA</td>\n",
              "      <td>...</td>\n",
              "      <td>Closed with explanation</td>\n",
              "      <td>JPMORGAN CHASE &amp; CO.</td>\n",
              "      <td>Web</td>\n",
              "      <td>2019-04-27T12:00:00-05:00</td>\n",
              "      <td>None</td>\n",
              "      <td>Checking account</td>\n",
              "      <td>Yes</td>\n",
              "      <td>my grand son give me check for {$1600.00} i de...</td>\n",
              "      <td>Funds not handled or disbursed as instructed</td>\n",
              "      <td>Consent provided</td>\n",
              "    </tr>\n",
              "  </tbody>\n",
              "</table>\n",
              "<p>5 rows × 22 columns</p>\n",
              "</div>\n",
              "      <button class=\"colab-df-convert\" onclick=\"convertToInteractive('df-7336fb48-79e1-4f30-b16c-c17b32ba236b')\"\n",
              "              title=\"Convert this dataframe to an interactive table.\"\n",
              "              style=\"display:none;\">\n",
              "        \n",
              "  <svg xmlns=\"http://www.w3.org/2000/svg\" height=\"24px\"viewBox=\"0 0 24 24\"\n",
              "       width=\"24px\">\n",
              "    <path d=\"M0 0h24v24H0V0z\" fill=\"none\"/>\n",
              "    <path d=\"M18.56 5.44l.94 2.06.94-2.06 2.06-.94-2.06-.94-.94-2.06-.94 2.06-2.06.94zm-11 1L8.5 8.5l.94-2.06 2.06-.94-2.06-.94L8.5 2.5l-.94 2.06-2.06.94zm10 10l.94 2.06.94-2.06 2.06-.94-2.06-.94-.94-2.06-.94 2.06-2.06.94z\"/><path d=\"M17.41 7.96l-1.37-1.37c-.4-.4-.92-.59-1.43-.59-.52 0-1.04.2-1.43.59L10.3 9.45l-7.72 7.72c-.78.78-.78 2.05 0 2.83L4 21.41c.39.39.9.59 1.41.59.51 0 1.02-.2 1.41-.59l7.78-7.78 2.81-2.81c.8-.78.8-2.07 0-2.86zM5.41 20L4 18.59l7.72-7.72 1.47 1.35L5.41 20z\"/>\n",
              "  </svg>\n",
              "      </button>\n",
              "      \n",
              "  <style>\n",
              "    .colab-df-container {\n",
              "      display:flex;\n",
              "      flex-wrap:wrap;\n",
              "      gap: 12px;\n",
              "    }\n",
              "\n",
              "    .colab-df-convert {\n",
              "      background-color: #E8F0FE;\n",
              "      border: none;\n",
              "      border-radius: 50%;\n",
              "      cursor: pointer;\n",
              "      display: none;\n",
              "      fill: #1967D2;\n",
              "      height: 32px;\n",
              "      padding: 0 0 0 0;\n",
              "      width: 32px;\n",
              "    }\n",
              "\n",
              "    .colab-df-convert:hover {\n",
              "      background-color: #E2EBFA;\n",
              "      box-shadow: 0px 1px 2px rgba(60, 64, 67, 0.3), 0px 1px 3px 1px rgba(60, 64, 67, 0.15);\n",
              "      fill: #174EA6;\n",
              "    }\n",
              "\n",
              "    [theme=dark] .colab-df-convert {\n",
              "      background-color: #3B4455;\n",
              "      fill: #D2E3FC;\n",
              "    }\n",
              "\n",
              "    [theme=dark] .colab-df-convert:hover {\n",
              "      background-color: #434B5C;\n",
              "      box-shadow: 0px 1px 3px 1px rgba(0, 0, 0, 0.15);\n",
              "      filter: drop-shadow(0px 1px 2px rgba(0, 0, 0, 0.3));\n",
              "      fill: #FFFFFF;\n",
              "    }\n",
              "  </style>\n",
              "\n",
              "      <script>\n",
              "        const buttonEl =\n",
              "          document.querySelector('#df-7336fb48-79e1-4f30-b16c-c17b32ba236b button.colab-df-convert');\n",
              "        buttonEl.style.display =\n",
              "          google.colab.kernel.accessAllowed ? 'block' : 'none';\n",
              "\n",
              "        async function convertToInteractive(key) {\n",
              "          const element = document.querySelector('#df-7336fb48-79e1-4f30-b16c-c17b32ba236b');\n",
              "          const dataTable =\n",
              "            await google.colab.kernel.invokeFunction('convertToInteractive',\n",
              "                                                     [key], {});\n",
              "          if (!dataTable) return;\n",
              "\n",
              "          const docLinkHtml = 'Like what you see? Visit the ' +\n",
              "            '<a target=\"_blank\" href=https://colab.research.google.com/notebooks/data_table.ipynb>data table notebook</a>'\n",
              "            + ' to learn more about interactive tables.';\n",
              "          element.innerHTML = '';\n",
              "          dataTable['output_type'] = 'display_data';\n",
              "          await google.colab.output.renderOutput(dataTable, element);\n",
              "          const docLink = document.createElement('div');\n",
              "          docLink.innerHTML = docLinkHtml;\n",
              "          element.appendChild(docLink);\n",
              "        }\n",
              "      </script>\n",
              "    </div>\n",
              "  </div>\n",
              "  "
            ]
          },
          "metadata": {},
          "execution_count": 30
        }
      ],
      "source": [
        "# Viewing first five rows of dataset after renaming the columns\n",
        "ticket_system.head()"
      ]
    },
    {
      "cell_type": "code",
      "execution_count": 14,
      "metadata": {
        "id": "v-ffMOR26OYd"
      },
      "outputs": [],
      "source": [
        "# Custom method for performing basic text pre-processing functionalities\n",
        "def text_cleaning_operation(document):\n",
        "    document = document.lower()\n",
        "    document = re.sub(r'\\[.*?\\]','',document)\n",
        "    \n",
        "    document = re.sub(r'[%s]%re.escape(string.punctuation)','',document)\n",
        "    document = re.sub(r'\\w*\\d\\w*', '', document)\n",
        "    \n",
        "    return document"
      ]
    },
    {
      "cell_type": "code",
      "execution_count": 31,
      "metadata": {
        "id": "G8cThXyA6OYe"
      },
      "outputs": [],
      "source": [
        "nlp = spacy.load(\"en_core_web_sm\")\n",
        "\n",
        "# Custom method for performing lemmatization in our dataset\n",
        "def lemmatize_document(corpus):\n",
        "    ticket_lemma = []\n",
        "    document = nlp(corpus)\n",
        "    for word in document:\n",
        "        ticket_lemma.append(word.lemma_)\n",
        "    \n",
        "    return \" \".join(ticket_lemma)"
      ]
    },
    {
      "cell_type": "code",
      "execution_count": 32,
      "metadata": {
        "id": "z2KO2gNf6OYe"
      },
      "outputs": [],
      "source": [
        "# Applying text pre-processing in the feature\n",
        "ticket_system['complaint_what_happened'] = ticket_system['complaint_what_happened'].apply(lambda text: text_cleaning_operation(text))"
      ]
    },
    {
      "cell_type": "code",
      "source": [
        "# Applying lemmatization on the feature and creating a new column with lemmatized complaints\n",
        "ticket_system['complaint'] = ticket_system.apply(lambda text: lemmatize_document(text['complaint_what_happened']), axis=1)"
      ],
      "metadata": {
        "id": "OHmK5tlQ9SPw"
      },
      "execution_count": 33,
      "outputs": []
    },
    {
      "cell_type": "code",
      "execution_count": 34,
      "metadata": {
        "colab": {
          "base_uri": "https://localhost:8080/",
          "height": 206
        },
        "id": "d_WNFHa66OYe",
        "outputId": "8cc45613-f40d-4021-a4b4-5a156424ed4f"
      },
      "outputs": [
        {
          "output_type": "execute_result",
          "data": {
            "text/plain": [
              "                              complaint_what_happened  \\\n",
              "1   good morning my name is xxxx xxxx and i apprec...   \n",
              "2   i upgraded my xxxx xxxx card in xx/xx/ and was...   \n",
              "10  chase card was reported on xx/xx/. however, fr...   \n",
              "11  on xx/xx/, while trying to book a xxxx  xxxx  ...   \n",
              "14  my grand son give me check for {$.} i deposit ...   \n",
              "\n",
              "                                            complaint  \n",
              "1   good morning my name be xxxx xxxx and I apprec...  \n",
              "2   I upgrade my xxxx xxxx card in xx / xx/ and be...  \n",
              "10  chase card be report on xx / xx/. however , fr...  \n",
              "11  on xx / xx/ , while try to book a xxxx   xxxx ...  \n",
              "14  my grand son give I check for { $ . } I deposi...  "
            ],
            "text/html": [
              "\n",
              "  <div id=\"df-bbae5286-c98d-453e-b708-53e7a059374a\">\n",
              "    <div class=\"colab-df-container\">\n",
              "      <div>\n",
              "<style scoped>\n",
              "    .dataframe tbody tr th:only-of-type {\n",
              "        vertical-align: middle;\n",
              "    }\n",
              "\n",
              "    .dataframe tbody tr th {\n",
              "        vertical-align: top;\n",
              "    }\n",
              "\n",
              "    .dataframe thead th {\n",
              "        text-align: right;\n",
              "    }\n",
              "</style>\n",
              "<table border=\"1\" class=\"dataframe\">\n",
              "  <thead>\n",
              "    <tr style=\"text-align: right;\">\n",
              "      <th></th>\n",
              "      <th>complaint_what_happened</th>\n",
              "      <th>complaint</th>\n",
              "    </tr>\n",
              "  </thead>\n",
              "  <tbody>\n",
              "    <tr>\n",
              "      <th>1</th>\n",
              "      <td>good morning my name is xxxx xxxx and i apprec...</td>\n",
              "      <td>good morning my name be xxxx xxxx and I apprec...</td>\n",
              "    </tr>\n",
              "    <tr>\n",
              "      <th>2</th>\n",
              "      <td>i upgraded my xxxx xxxx card in xx/xx/ and was...</td>\n",
              "      <td>I upgrade my xxxx xxxx card in xx / xx/ and be...</td>\n",
              "    </tr>\n",
              "    <tr>\n",
              "      <th>10</th>\n",
              "      <td>chase card was reported on xx/xx/. however, fr...</td>\n",
              "      <td>chase card be report on xx / xx/. however , fr...</td>\n",
              "    </tr>\n",
              "    <tr>\n",
              "      <th>11</th>\n",
              "      <td>on xx/xx/, while trying to book a xxxx  xxxx  ...</td>\n",
              "      <td>on xx / xx/ , while try to book a xxxx   xxxx ...</td>\n",
              "    </tr>\n",
              "    <tr>\n",
              "      <th>14</th>\n",
              "      <td>my grand son give me check for {$.} i deposit ...</td>\n",
              "      <td>my grand son give I check for { $ . } I deposi...</td>\n",
              "    </tr>\n",
              "  </tbody>\n",
              "</table>\n",
              "</div>\n",
              "      <button class=\"colab-df-convert\" onclick=\"convertToInteractive('df-bbae5286-c98d-453e-b708-53e7a059374a')\"\n",
              "              title=\"Convert this dataframe to an interactive table.\"\n",
              "              style=\"display:none;\">\n",
              "        \n",
              "  <svg xmlns=\"http://www.w3.org/2000/svg\" height=\"24px\"viewBox=\"0 0 24 24\"\n",
              "       width=\"24px\">\n",
              "    <path d=\"M0 0h24v24H0V0z\" fill=\"none\"/>\n",
              "    <path d=\"M18.56 5.44l.94 2.06.94-2.06 2.06-.94-2.06-.94-.94-2.06-.94 2.06-2.06.94zm-11 1L8.5 8.5l.94-2.06 2.06-.94-2.06-.94L8.5 2.5l-.94 2.06-2.06.94zm10 10l.94 2.06.94-2.06 2.06-.94-2.06-.94-.94-2.06-.94 2.06-2.06.94z\"/><path d=\"M17.41 7.96l-1.37-1.37c-.4-.4-.92-.59-1.43-.59-.52 0-1.04.2-1.43.59L10.3 9.45l-7.72 7.72c-.78.78-.78 2.05 0 2.83L4 21.41c.39.39.9.59 1.41.59.51 0 1.02-.2 1.41-.59l7.78-7.78 2.81-2.81c.8-.78.8-2.07 0-2.86zM5.41 20L4 18.59l7.72-7.72 1.47 1.35L5.41 20z\"/>\n",
              "  </svg>\n",
              "      </button>\n",
              "      \n",
              "  <style>\n",
              "    .colab-df-container {\n",
              "      display:flex;\n",
              "      flex-wrap:wrap;\n",
              "      gap: 12px;\n",
              "    }\n",
              "\n",
              "    .colab-df-convert {\n",
              "      background-color: #E8F0FE;\n",
              "      border: none;\n",
              "      border-radius: 50%;\n",
              "      cursor: pointer;\n",
              "      display: none;\n",
              "      fill: #1967D2;\n",
              "      height: 32px;\n",
              "      padding: 0 0 0 0;\n",
              "      width: 32px;\n",
              "    }\n",
              "\n",
              "    .colab-df-convert:hover {\n",
              "      background-color: #E2EBFA;\n",
              "      box-shadow: 0px 1px 2px rgba(60, 64, 67, 0.3), 0px 1px 3px 1px rgba(60, 64, 67, 0.15);\n",
              "      fill: #174EA6;\n",
              "    }\n",
              "\n",
              "    [theme=dark] .colab-df-convert {\n",
              "      background-color: #3B4455;\n",
              "      fill: #D2E3FC;\n",
              "    }\n",
              "\n",
              "    [theme=dark] .colab-df-convert:hover {\n",
              "      background-color: #434B5C;\n",
              "      box-shadow: 0px 1px 3px 1px rgba(0, 0, 0, 0.15);\n",
              "      filter: drop-shadow(0px 1px 2px rgba(0, 0, 0, 0.3));\n",
              "      fill: #FFFFFF;\n",
              "    }\n",
              "  </style>\n",
              "\n",
              "      <script>\n",
              "        const buttonEl =\n",
              "          document.querySelector('#df-bbae5286-c98d-453e-b708-53e7a059374a button.colab-df-convert');\n",
              "        buttonEl.style.display =\n",
              "          google.colab.kernel.accessAllowed ? 'block' : 'none';\n",
              "\n",
              "        async function convertToInteractive(key) {\n",
              "          const element = document.querySelector('#df-bbae5286-c98d-453e-b708-53e7a059374a');\n",
              "          const dataTable =\n",
              "            await google.colab.kernel.invokeFunction('convertToInteractive',\n",
              "                                                     [key], {});\n",
              "          if (!dataTable) return;\n",
              "\n",
              "          const docLinkHtml = 'Like what you see? Visit the ' +\n",
              "            '<a target=\"_blank\" href=https://colab.research.google.com/notebooks/data_table.ipynb>data table notebook</a>'\n",
              "            + ' to learn more about interactive tables.';\n",
              "          element.innerHTML = '';\n",
              "          dataTable['output_type'] = 'display_data';\n",
              "          await google.colab.output.renderOutput(dataTable, element);\n",
              "          const docLink = document.createElement('div');\n",
              "          docLink.innerHTML = docLinkHtml;\n",
              "          element.appendChild(docLink);\n",
              "        }\n",
              "      </script>\n",
              "    </div>\n",
              "  </div>\n",
              "  "
            ]
          },
          "metadata": {},
          "execution_count": 34
        }
      ],
      "source": [
        "# Creating a new dataframe with cleaned and pre-processed features\n",
        "ticket_system_pre_processed = ticket_system[['complaint_what_happened', 'complaint']]\n",
        "ticket_system_pre_processed.head()"
      ]
    },
    {
      "cell_type": "code",
      "execution_count": 35,
      "metadata": {
        "id": "_oMAObFE6OYf"
      },
      "outputs": [],
      "source": [
        "# Custom method for extracting POS-Noun tags\n",
        "def extract_singular_noun(text):\n",
        "    text_blob = TextBlob(text)\n",
        "    return ' '.join([ word for (word,tag) in text_blob.tags if tag == \"NN\"])"
      ]
    },
    {
      "cell_type": "code",
      "source": [
        "!python -m textblob.download_corpora"
      ],
      "metadata": {
        "colab": {
          "base_uri": "https://localhost:8080/"
        },
        "id": "WOjcWh05CLAG",
        "outputId": "0d188092-9382-4193-9097-df2588e89ea7"
      },
      "execution_count": 37,
      "outputs": [
        {
          "output_type": "stream",
          "name": "stdout",
          "text": [
            "[nltk_data] Downloading package brown to /root/nltk_data...\n",
            "[nltk_data]   Unzipping corpora/brown.zip.\n",
            "[nltk_data] Downloading package punkt to /root/nltk_data...\n",
            "[nltk_data]   Unzipping tokenizers/punkt.zip.\n",
            "[nltk_data] Downloading package wordnet to /root/nltk_data...\n",
            "[nltk_data] Downloading package averaged_perceptron_tagger to\n",
            "[nltk_data]     /root/nltk_data...\n",
            "[nltk_data]   Unzipping taggers/averaged_perceptron_tagger.zip.\n",
            "[nltk_data] Downloading package conll2000 to /root/nltk_data...\n",
            "[nltk_data]   Unzipping corpora/conll2000.zip.\n",
            "[nltk_data] Downloading package movie_reviews to /root/nltk_data...\n",
            "[nltk_data]   Unzipping corpora/movie_reviews.zip.\n",
            "Finished.\n"
          ]
        }
      ]
    },
    {
      "cell_type": "code",
      "execution_count": 38,
      "metadata": {
        "colab": {
          "base_uri": "https://localhost:8080/",
          "height": 206
        },
        "id": "u6ir4w3I6OYf",
        "outputId": "55a50bef-6cb4-44f0-b6d4-21506ec30cd2"
      },
      "outputs": [
        {
          "output_type": "execute_result",
          "data": {
            "text/plain": [
              "                              complaint_what_happened  \\\n",
              "1   good morning my name is xxxx xxxx and i apprec...   \n",
              "2   i upgraded my xxxx xxxx card in xx/xx/ and was...   \n",
              "10  chase card was reported on xx/xx/. however, fr...   \n",
              "11  on xx/xx/, while trying to book a xxxx  xxxx  ...   \n",
              "14  my grand son give me check for {$.} i deposit ...   \n",
              "\n",
              "                                            complaint  \\\n",
              "1   good morning my name be xxxx xxxx and I apprec...   \n",
              "2   I upgrade my xxxx xxxx card in xx / xx/ and be...   \n",
              "10  chase card be report on xx / xx/. however , fr...   \n",
              "11  on xx / xx/ , while try to book a xxxx   xxxx ...   \n",
              "14  my grand son give I check for { $ . } I deposi...   \n",
              "\n",
              "                                        complaint_POS  \n",
              "1   morning name stop bank cardmember ask debt ver...  \n",
              "2   card agent upgrade date agent information orde...  \n",
              "10  card application identity consent service cred...  \n",
              "11  try book xxxx ticket offer ticket card informa...  \n",
              "14  son chase account fund bank account pay money ...  "
            ],
            "text/html": [
              "\n",
              "  <div id=\"df-fcc245de-3541-4280-9998-316716947fd1\">\n",
              "    <div class=\"colab-df-container\">\n",
              "      <div>\n",
              "<style scoped>\n",
              "    .dataframe tbody tr th:only-of-type {\n",
              "        vertical-align: middle;\n",
              "    }\n",
              "\n",
              "    .dataframe tbody tr th {\n",
              "        vertical-align: top;\n",
              "    }\n",
              "\n",
              "    .dataframe thead th {\n",
              "        text-align: right;\n",
              "    }\n",
              "</style>\n",
              "<table border=\"1\" class=\"dataframe\">\n",
              "  <thead>\n",
              "    <tr style=\"text-align: right;\">\n",
              "      <th></th>\n",
              "      <th>complaint_what_happened</th>\n",
              "      <th>complaint</th>\n",
              "      <th>complaint_POS</th>\n",
              "    </tr>\n",
              "  </thead>\n",
              "  <tbody>\n",
              "    <tr>\n",
              "      <th>1</th>\n",
              "      <td>good morning my name is xxxx xxxx and i apprec...</td>\n",
              "      <td>good morning my name be xxxx xxxx and I apprec...</td>\n",
              "      <td>morning name stop bank cardmember ask debt ver...</td>\n",
              "    </tr>\n",
              "    <tr>\n",
              "      <th>2</th>\n",
              "      <td>i upgraded my xxxx xxxx card in xx/xx/ and was...</td>\n",
              "      <td>I upgrade my xxxx xxxx card in xx / xx/ and be...</td>\n",
              "      <td>card agent upgrade date agent information orde...</td>\n",
              "    </tr>\n",
              "    <tr>\n",
              "      <th>10</th>\n",
              "      <td>chase card was reported on xx/xx/. however, fr...</td>\n",
              "      <td>chase card be report on xx / xx/. however , fr...</td>\n",
              "      <td>card application identity consent service cred...</td>\n",
              "    </tr>\n",
              "    <tr>\n",
              "      <th>11</th>\n",
              "      <td>on xx/xx/, while trying to book a xxxx  xxxx  ...</td>\n",
              "      <td>on xx / xx/ , while try to book a xxxx   xxxx ...</td>\n",
              "      <td>try book xxxx ticket offer ticket card informa...</td>\n",
              "    </tr>\n",
              "    <tr>\n",
              "      <th>14</th>\n",
              "      <td>my grand son give me check for {$.} i deposit ...</td>\n",
              "      <td>my grand son give I check for { $ . } I deposi...</td>\n",
              "      <td>son chase account fund bank account pay money ...</td>\n",
              "    </tr>\n",
              "  </tbody>\n",
              "</table>\n",
              "</div>\n",
              "      <button class=\"colab-df-convert\" onclick=\"convertToInteractive('df-fcc245de-3541-4280-9998-316716947fd1')\"\n",
              "              title=\"Convert this dataframe to an interactive table.\"\n",
              "              style=\"display:none;\">\n",
              "        \n",
              "  <svg xmlns=\"http://www.w3.org/2000/svg\" height=\"24px\"viewBox=\"0 0 24 24\"\n",
              "       width=\"24px\">\n",
              "    <path d=\"M0 0h24v24H0V0z\" fill=\"none\"/>\n",
              "    <path d=\"M18.56 5.44l.94 2.06.94-2.06 2.06-.94-2.06-.94-.94-2.06-.94 2.06-2.06.94zm-11 1L8.5 8.5l.94-2.06 2.06-.94-2.06-.94L8.5 2.5l-.94 2.06-2.06.94zm10 10l.94 2.06.94-2.06 2.06-.94-2.06-.94-.94-2.06-.94 2.06-2.06.94z\"/><path d=\"M17.41 7.96l-1.37-1.37c-.4-.4-.92-.59-1.43-.59-.52 0-1.04.2-1.43.59L10.3 9.45l-7.72 7.72c-.78.78-.78 2.05 0 2.83L4 21.41c.39.39.9.59 1.41.59.51 0 1.02-.2 1.41-.59l7.78-7.78 2.81-2.81c.8-.78.8-2.07 0-2.86zM5.41 20L4 18.59l7.72-7.72 1.47 1.35L5.41 20z\"/>\n",
              "  </svg>\n",
              "      </button>\n",
              "      \n",
              "  <style>\n",
              "    .colab-df-container {\n",
              "      display:flex;\n",
              "      flex-wrap:wrap;\n",
              "      gap: 12px;\n",
              "    }\n",
              "\n",
              "    .colab-df-convert {\n",
              "      background-color: #E8F0FE;\n",
              "      border: none;\n",
              "      border-radius: 50%;\n",
              "      cursor: pointer;\n",
              "      display: none;\n",
              "      fill: #1967D2;\n",
              "      height: 32px;\n",
              "      padding: 0 0 0 0;\n",
              "      width: 32px;\n",
              "    }\n",
              "\n",
              "    .colab-df-convert:hover {\n",
              "      background-color: #E2EBFA;\n",
              "      box-shadow: 0px 1px 2px rgba(60, 64, 67, 0.3), 0px 1px 3px 1px rgba(60, 64, 67, 0.15);\n",
              "      fill: #174EA6;\n",
              "    }\n",
              "\n",
              "    [theme=dark] .colab-df-convert {\n",
              "      background-color: #3B4455;\n",
              "      fill: #D2E3FC;\n",
              "    }\n",
              "\n",
              "    [theme=dark] .colab-df-convert:hover {\n",
              "      background-color: #434B5C;\n",
              "      box-shadow: 0px 1px 3px 1px rgba(0, 0, 0, 0.15);\n",
              "      filter: drop-shadow(0px 1px 2px rgba(0, 0, 0, 0.3));\n",
              "      fill: #FFFFFF;\n",
              "    }\n",
              "  </style>\n",
              "\n",
              "      <script>\n",
              "        const buttonEl =\n",
              "          document.querySelector('#df-fcc245de-3541-4280-9998-316716947fd1 button.colab-df-convert');\n",
              "        buttonEl.style.display =\n",
              "          google.colab.kernel.accessAllowed ? 'block' : 'none';\n",
              "\n",
              "        async function convertToInteractive(key) {\n",
              "          const element = document.querySelector('#df-fcc245de-3541-4280-9998-316716947fd1');\n",
              "          const dataTable =\n",
              "            await google.colab.kernel.invokeFunction('convertToInteractive',\n",
              "                                                     [key], {});\n",
              "          if (!dataTable) return;\n",
              "\n",
              "          const docLinkHtml = 'Like what you see? Visit the ' +\n",
              "            '<a target=\"_blank\" href=https://colab.research.google.com/notebooks/data_table.ipynb>data table notebook</a>'\n",
              "            + ' to learn more about interactive tables.';\n",
              "          element.innerHTML = '';\n",
              "          dataTable['output_type'] = 'display_data';\n",
              "          await google.colab.output.renderOutput(dataTable, element);\n",
              "          const docLink = document.createElement('div');\n",
              "          docLink.innerHTML = docLinkHtml;\n",
              "          element.appendChild(docLink);\n",
              "        }\n",
              "      </script>\n",
              "    </div>\n",
              "  </div>\n",
              "  "
            ]
          },
          "metadata": {},
          "execution_count": 38
        }
      ],
      "source": [
        "# Creating a new column containing only singular nouns from the complaint feature using custom method declare above.\n",
        "ticket_system_pre_processed['complaint_POS'] = ticket_system_pre_processed.apply(lambda text: extract_singular_noun(text['complaint']), axis=1)\n",
        "ticket_system_pre_processed.head()"
      ]
    },
    {
      "cell_type": "code",
      "execution_count": 39,
      "metadata": {
        "id": "OdLh6xWM6OYf"
      },
      "outputs": [],
      "source": [
        "# Creating Document term matrix which is a tuple.\n",
        "# Removing infrequent words having less than 2 appearance in the complaint (min_df)\n",
        "tfidf_matrix = TfidfVectorizer(max_df=0.95,min_df=2,stop_words='english')\n",
        "document_matrix = tfidf_matrix.fit_transform(ticket_system_pre_processed['complaint_POS'])"
      ]
    },
    {
      "cell_type": "code",
      "source": [
        "!python -m pip install -U gensim"
      ],
      "metadata": {
        "colab": {
          "base_uri": "https://localhost:8080/"
        },
        "id": "bI3IvI_eLW-G",
        "outputId": "b7c3d228-e6c9-4848-97fb-c2db926d86f8"
      },
      "execution_count": 41,
      "outputs": [
        {
          "output_type": "stream",
          "name": "stdout",
          "text": [
            "Looking in indexes: https://pypi.org/simple, https://us-python.pkg.dev/colab-wheels/public/simple/\n",
            "Requirement already satisfied: gensim in /usr/local/lib/python3.8/dist-packages (3.6.0)\n",
            "Collecting gensim\n",
            "  Downloading gensim-4.3.0-cp38-cp38-manylinux_2_12_x86_64.manylinux2010_x86_64.whl (24.1 MB)\n",
            "\u001b[K     |████████████████████████████████| 24.1 MB 1.6 MB/s \n",
            "\u001b[?25hCollecting FuzzyTM>=0.4.0\n",
            "  Downloading FuzzyTM-2.0.5-py3-none-any.whl (29 kB)\n",
            "Requirement already satisfied: scipy>=1.7.0 in /usr/local/lib/python3.8/dist-packages (from gensim) (1.7.3)\n",
            "Requirement already satisfied: numpy>=1.18.5 in /usr/local/lib/python3.8/dist-packages (from gensim) (1.21.6)\n",
            "Requirement already satisfied: smart-open>=1.8.1 in /usr/local/lib/python3.8/dist-packages (from gensim) (6.3.0)\n",
            "Requirement already satisfied: pandas in /usr/local/lib/python3.8/dist-packages (from FuzzyTM>=0.4.0->gensim) (1.3.5)\n",
            "Collecting pyfume\n",
            "  Downloading pyFUME-0.2.25-py3-none-any.whl (67 kB)\n",
            "\u001b[K     |████████████████████████████████| 67 kB 5.2 MB/s \n",
            "\u001b[?25hRequirement already satisfied: python-dateutil>=2.7.3 in /usr/local/lib/python3.8/dist-packages (from pandas->FuzzyTM>=0.4.0->gensim) (2.8.2)\n",
            "Requirement already satisfied: pytz>=2017.3 in /usr/local/lib/python3.8/dist-packages (from pandas->FuzzyTM>=0.4.0->gensim) (2022.6)\n",
            "Requirement already satisfied: six>=1.5 in /usr/local/lib/python3.8/dist-packages (from python-dateutil>=2.7.3->pandas->FuzzyTM>=0.4.0->gensim) (1.15.0)\n",
            "Collecting fst-pso\n",
            "  Downloading fst-pso-1.8.1.tar.gz (18 kB)\n",
            "Collecting simpful\n",
            "  Downloading simpful-2.9.0-py3-none-any.whl (30 kB)\n",
            "Collecting miniful\n",
            "  Downloading miniful-0.0.6.tar.gz (2.8 kB)\n",
            "Requirement already satisfied: requests in /usr/local/lib/python3.8/dist-packages (from simpful->pyfume->FuzzyTM>=0.4.0->gensim) (2.23.0)\n",
            "Requirement already satisfied: certifi>=2017.4.17 in /usr/local/lib/python3.8/dist-packages (from requests->simpful->pyfume->FuzzyTM>=0.4.0->gensim) (2022.12.7)\n",
            "Requirement already satisfied: urllib3!=1.25.0,!=1.25.1,<1.26,>=1.21.1 in /usr/local/lib/python3.8/dist-packages (from requests->simpful->pyfume->FuzzyTM>=0.4.0->gensim) (1.24.3)\n",
            "Requirement already satisfied: idna<3,>=2.5 in /usr/local/lib/python3.8/dist-packages (from requests->simpful->pyfume->FuzzyTM>=0.4.0->gensim) (2.10)\n",
            "Requirement already satisfied: chardet<4,>=3.0.2 in /usr/local/lib/python3.8/dist-packages (from requests->simpful->pyfume->FuzzyTM>=0.4.0->gensim) (3.0.4)\n",
            "Building wheels for collected packages: fst-pso, miniful\n",
            "  Building wheel for fst-pso (setup.py) ... \u001b[?25l\u001b[?25hdone\n",
            "  Created wheel for fst-pso: filename=fst_pso-1.8.1-py3-none-any.whl size=20443 sha256=368d85b74bae6113c7e022b7f00a00ae0204a443fad5fe662d13a3b4e778ecc9\n",
            "  Stored in directory: /root/.cache/pip/wheels/6a/65/c4/d27eeee9ba3fc150a0dae150519591103b9e0dbffde3ae77dc\n",
            "  Building wheel for miniful (setup.py) ... \u001b[?25l\u001b[?25hdone\n",
            "  Created wheel for miniful: filename=miniful-0.0.6-py3-none-any.whl size=3530 sha256=d9c8f89137598c5450bab8a6d51c5d4667735d79f7fb5a562f93bc90846b2e70\n",
            "  Stored in directory: /root/.cache/pip/wheels/ba/d9/a0/ddd93af16d5855dd9bad417623e70948fdac119d1d34fb17c8\n",
            "Successfully built fst-pso miniful\n",
            "Installing collected packages: miniful, simpful, fst-pso, pyfume, FuzzyTM, gensim\n",
            "  Attempting uninstall: gensim\n",
            "    Found existing installation: gensim 3.6.0\n",
            "    Uninstalling gensim-3.6.0:\n",
            "      Successfully uninstalled gensim-3.6.0\n",
            "Successfully installed FuzzyTM-2.0.5 fst-pso-1.8.1 gensim-4.3.0 miniful-0.0.6 pyfume-0.2.25 simpful-2.9.0\n"
          ]
        }
      ]
    },
    {
      "cell_type": "code",
      "execution_count": 43,
      "metadata": {
        "id": "6PjELJwB6OYg"
      },
      "outputs": [],
      "source": [
        "# Extracting best num of topics via coherence score\n",
        "document = ticket_system_pre_processed['complaint_POS']\n",
        "corpus = [text.split() for text in document]"
      ]
    },
    {
      "cell_type": "code",
      "execution_count": 44,
      "metadata": {
        "id": "fUvsO-_Y6OYg"
      },
      "outputs": [],
      "source": [
        "doc_dict = Dictionary(corpus)\n",
        "doc_dict.filter_extremes(no_below=3, no_above=0.85, keep_n=5000)"
      ]
    },
    {
      "cell_type": "code",
      "execution_count": 45,
      "metadata": {
        "id": "y__BhpQX6OYg"
      },
      "outputs": [],
      "source": [
        "corpus_bow = [doc_dict.doc2bow(text) for text in corpus]"
      ]
    },
    {
      "cell_type": "code",
      "execution_count": 46,
      "metadata": {
        "id": "tcx-4jq-6OYh"
      },
      "outputs": [],
      "source": [
        "topic_num = list(np.arange(2, 10, 1))\n",
        "coherence_score = []"
      ]
    },
    {
      "cell_type": "code",
      "execution_count": 48,
      "metadata": {
        "id": "AccHlA2K6OYh"
      },
      "outputs": [],
      "source": [
        "# Running nmf model and calculating coherence score\n",
        "for num in topic_num:\n",
        "    nmf = Nmf(\n",
        "        corpus = corpus_bow,\n",
        "        num_topics = num,\n",
        "        id2word= doc_dict,\n",
        "        chunksize = 2000,\n",
        "        passes = 5,\n",
        "        kappa = .1,\n",
        "        minimum_probability = 0.01,\n",
        "        w_max_iter = 300,\n",
        "        w_stop_condition = 0.0001,\n",
        "        h_max_iter = 100,\n",
        "        h_stop_condition = 0.001,\n",
        "        eval_every = 10,\n",
        "        normalize = True,\n",
        "        random_state = 40\n",
        "    )\n",
        "    \n",
        "    coherence_model = CoherenceModel(\n",
        "        model = nmf,\n",
        "        texts = document,\n",
        "        dictionary = doc_dict,\n",
        "        coherence = 'c_v'\n",
        "    )\n",
        "    \n",
        "    coherence_score.append(round(coherence_model.get_coherence(), 5))"
      ]
    },
    {
      "cell_type": "code",
      "execution_count": null,
      "metadata": {
        "id": "mzEETRaq6OYh"
      },
      "outputs": [],
      "source": [
        "# Get number of topics with highest coherence score\n",
        "scores = list(zip(topic_num, coherence_score))\n",
        "best_topics_num = sorted(scores, key=itemgetter(1), reverse=True)[0][0]"
      ]
    },
    {
      "cell_type": "code",
      "execution_count": 51,
      "metadata": {
        "colab": {
          "base_uri": "https://localhost:8080/"
        },
        "id": "EHzcBtAI6OYh",
        "outputId": "46f905e0-e1a6-4ea2-af50-3ca34ab72372"
      },
      "outputs": [
        {
          "output_type": "execute_result",
          "data": {
            "text/plain": [
              "NMF(n_components=5, random_state=40)"
            ]
          },
          "metadata": {},
          "execution_count": 51
        }
      ],
      "source": [
        "nmf_model = NMF(n_components = 5,random_state = 40)\n",
        "nmf_model.fit(document_matrix)"
      ]
    },
    {
      "cell_type": "code",
      "execution_count": 52,
      "metadata": {
        "colab": {
          "base_uri": "https://localhost:8080/"
        },
        "id": "CO0Q8ovD6OYi",
        "outputId": "9b33b20d-a620-4093-dc34-1107ca9aab04"
      },
      "outputs": [
        {
          "output_type": "execute_result",
          "data": {
            "text/plain": [
              "array([3550, 4264, 4260, ..., 1046,  537,   46])"
            ]
          },
          "metadata": {},
          "execution_count": 52
        },
        {
          "output_type": "stream",
          "name": "stdout",
          "text": [
            "day\n",
            "branch\n",
            "xxxx\n",
            "deposit\n",
            "chase\n",
            "fund\n",
            "money\n",
            "check\n",
            "bank\n",
            "account\n"
          ]
        }
      ],
      "source": [
        "# Visualising top words of a component\n",
        "top_word = nmf_model.components_[0]\n",
        "top_word.argsort()\n",
        "\n",
        "top_word_index = top_word.argsort()[-10:]\n",
        "for index in top_word_index:\n",
        "  print(tfidf_matrix.get_feature_names()[index])"
      ]
    },
    {
      "cell_type": "code",
      "execution_count": 54,
      "metadata": {
        "colab": {
          "base_uri": "https://localhost:8080/"
        },
        "id": "7Q8DSi3l6OYi",
        "outputId": "d12c4eec-a74f-4a6a-83fe-fbdc9f3fef6e"
      },
      "outputs": [
        {
          "output_type": "execute_result",
          "data": {
            "text/plain": [
              "array([0.02, 0.01, 0.02, 0.  , 0.01])"
            ]
          },
          "metadata": {},
          "execution_count": 54
        },
        {
          "output_type": "execute_result",
          "data": {
            "text/plain": [
              "0"
            ]
          },
          "metadata": {},
          "execution_count": 54
        },
        {
          "output_type": "execute_result",
          "data": {
            "text/plain": [
              "array([0, 3, 1, ..., 3, 4, 4])"
            ]
          },
          "metadata": {},
          "execution_count": 54
        }
      ],
      "source": [
        "topic_outcome = nmf_model.transform(document_matrix)\n",
        "topic_outcome[0].round(2)\n",
        "topic_outcome[0].argmax()\n",
        "topic_outcome.argmax(axis = 1)"
      ]
    },
    {
      "cell_type": "code",
      "source": [
        "# Creating a new feature in the dataset with topics for each complaints\n",
        "ticket_system_pre_processed['Topic'] = topic_outcome.argmax(axis = 1)"
      ],
      "metadata": {
        "id": "OehiQwShN7C1"
      },
      "execution_count": 55,
      "outputs": []
    },
    {
      "cell_type": "code",
      "source": [
        "ticket_system_pre_processed.shape"
      ],
      "metadata": {
        "colab": {
          "base_uri": "https://localhost:8080/"
        },
        "id": "nfd53FGbOmYx",
        "outputId": "1b753c56-cb80-45a3-929a-b03371fe8f31"
      },
      "execution_count": 56,
      "outputs": [
        {
          "output_type": "execute_result",
          "data": {
            "text/plain": [
              "(21072, 4)"
            ]
          },
          "metadata": {},
          "execution_count": 56
        }
      ]
    },
    {
      "cell_type": "code",
      "source": [
        "ticket_system_pre_processed.head()"
      ],
      "metadata": {
        "colab": {
          "base_uri": "https://localhost:8080/",
          "height": 206
        },
        "id": "rLEyv9hIOqIP",
        "outputId": "9cc74186-3401-4d5c-c317-b6c792626e8c"
      },
      "execution_count": 57,
      "outputs": [
        {
          "output_type": "execute_result",
          "data": {
            "text/plain": [
              "                              complaint_what_happened  \\\n",
              "1   good morning my name is xxxx xxxx and i apprec...   \n",
              "2   i upgraded my xxxx xxxx card in xx/xx/ and was...   \n",
              "10  chase card was reported on xx/xx/. however, fr...   \n",
              "11  on xx/xx/, while trying to book a xxxx  xxxx  ...   \n",
              "14  my grand son give me check for {$.} i deposit ...   \n",
              "\n",
              "                                            complaint  \\\n",
              "1   good morning my name be xxxx xxxx and I apprec...   \n",
              "2   I upgrade my xxxx xxxx card in xx / xx/ and be...   \n",
              "10  chase card be report on xx / xx/. however , fr...   \n",
              "11  on xx / xx/ , while try to book a xxxx   xxxx ...   \n",
              "14  my grand son give I check for { $ . } I deposi...   \n",
              "\n",
              "                                        complaint_POS  Topic  \n",
              "1   morning name stop bank cardmember ask debt ver...      0  \n",
              "2   card agent upgrade date agent information orde...      3  \n",
              "10  card application identity consent service cred...      1  \n",
              "11  try book xxxx ticket offer ticket card informa...      1  \n",
              "14  son chase account fund bank account pay money ...      0  "
            ],
            "text/html": [
              "\n",
              "  <div id=\"df-1f1ff31c-d753-4782-8434-05fc6bdd6ebf\">\n",
              "    <div class=\"colab-df-container\">\n",
              "      <div>\n",
              "<style scoped>\n",
              "    .dataframe tbody tr th:only-of-type {\n",
              "        vertical-align: middle;\n",
              "    }\n",
              "\n",
              "    .dataframe tbody tr th {\n",
              "        vertical-align: top;\n",
              "    }\n",
              "\n",
              "    .dataframe thead th {\n",
              "        text-align: right;\n",
              "    }\n",
              "</style>\n",
              "<table border=\"1\" class=\"dataframe\">\n",
              "  <thead>\n",
              "    <tr style=\"text-align: right;\">\n",
              "      <th></th>\n",
              "      <th>complaint_what_happened</th>\n",
              "      <th>complaint</th>\n",
              "      <th>complaint_POS</th>\n",
              "      <th>Topic</th>\n",
              "    </tr>\n",
              "  </thead>\n",
              "  <tbody>\n",
              "    <tr>\n",
              "      <th>1</th>\n",
              "      <td>good morning my name is xxxx xxxx and i apprec...</td>\n",
              "      <td>good morning my name be xxxx xxxx and I apprec...</td>\n",
              "      <td>morning name stop bank cardmember ask debt ver...</td>\n",
              "      <td>0</td>\n",
              "    </tr>\n",
              "    <tr>\n",
              "      <th>2</th>\n",
              "      <td>i upgraded my xxxx xxxx card in xx/xx/ and was...</td>\n",
              "      <td>I upgrade my xxxx xxxx card in xx / xx/ and be...</td>\n",
              "      <td>card agent upgrade date agent information orde...</td>\n",
              "      <td>3</td>\n",
              "    </tr>\n",
              "    <tr>\n",
              "      <th>10</th>\n",
              "      <td>chase card was reported on xx/xx/. however, fr...</td>\n",
              "      <td>chase card be report on xx / xx/. however , fr...</td>\n",
              "      <td>card application identity consent service cred...</td>\n",
              "      <td>1</td>\n",
              "    </tr>\n",
              "    <tr>\n",
              "      <th>11</th>\n",
              "      <td>on xx/xx/, while trying to book a xxxx  xxxx  ...</td>\n",
              "      <td>on xx / xx/ , while try to book a xxxx   xxxx ...</td>\n",
              "      <td>try book xxxx ticket offer ticket card informa...</td>\n",
              "      <td>1</td>\n",
              "    </tr>\n",
              "    <tr>\n",
              "      <th>14</th>\n",
              "      <td>my grand son give me check for {$.} i deposit ...</td>\n",
              "      <td>my grand son give I check for { $ . } I deposi...</td>\n",
              "      <td>son chase account fund bank account pay money ...</td>\n",
              "      <td>0</td>\n",
              "    </tr>\n",
              "  </tbody>\n",
              "</table>\n",
              "</div>\n",
              "      <button class=\"colab-df-convert\" onclick=\"convertToInteractive('df-1f1ff31c-d753-4782-8434-05fc6bdd6ebf')\"\n",
              "              title=\"Convert this dataframe to an interactive table.\"\n",
              "              style=\"display:none;\">\n",
              "        \n",
              "  <svg xmlns=\"http://www.w3.org/2000/svg\" height=\"24px\"viewBox=\"0 0 24 24\"\n",
              "       width=\"24px\">\n",
              "    <path d=\"M0 0h24v24H0V0z\" fill=\"none\"/>\n",
              "    <path d=\"M18.56 5.44l.94 2.06.94-2.06 2.06-.94-2.06-.94-.94-2.06-.94 2.06-2.06.94zm-11 1L8.5 8.5l.94-2.06 2.06-.94-2.06-.94L8.5 2.5l-.94 2.06-2.06.94zm10 10l.94 2.06.94-2.06 2.06-.94-2.06-.94-.94-2.06-.94 2.06-2.06.94z\"/><path d=\"M17.41 7.96l-1.37-1.37c-.4-.4-.92-.59-1.43-.59-.52 0-1.04.2-1.43.59L10.3 9.45l-7.72 7.72c-.78.78-.78 2.05 0 2.83L4 21.41c.39.39.9.59 1.41.59.51 0 1.02-.2 1.41-.59l7.78-7.78 2.81-2.81c.8-.78.8-2.07 0-2.86zM5.41 20L4 18.59l7.72-7.72 1.47 1.35L5.41 20z\"/>\n",
              "  </svg>\n",
              "      </button>\n",
              "      \n",
              "  <style>\n",
              "    .colab-df-container {\n",
              "      display:flex;\n",
              "      flex-wrap:wrap;\n",
              "      gap: 12px;\n",
              "    }\n",
              "\n",
              "    .colab-df-convert {\n",
              "      background-color: #E8F0FE;\n",
              "      border: none;\n",
              "      border-radius: 50%;\n",
              "      cursor: pointer;\n",
              "      display: none;\n",
              "      fill: #1967D2;\n",
              "      height: 32px;\n",
              "      padding: 0 0 0 0;\n",
              "      width: 32px;\n",
              "    }\n",
              "\n",
              "    .colab-df-convert:hover {\n",
              "      background-color: #E2EBFA;\n",
              "      box-shadow: 0px 1px 2px rgba(60, 64, 67, 0.3), 0px 1px 3px 1px rgba(60, 64, 67, 0.15);\n",
              "      fill: #174EA6;\n",
              "    }\n",
              "\n",
              "    [theme=dark] .colab-df-convert {\n",
              "      background-color: #3B4455;\n",
              "      fill: #D2E3FC;\n",
              "    }\n",
              "\n",
              "    [theme=dark] .colab-df-convert:hover {\n",
              "      background-color: #434B5C;\n",
              "      box-shadow: 0px 1px 3px 1px rgba(0, 0, 0, 0.15);\n",
              "      filter: drop-shadow(0px 1px 2px rgba(0, 0, 0, 0.3));\n",
              "      fill: #FFFFFF;\n",
              "    }\n",
              "  </style>\n",
              "\n",
              "      <script>\n",
              "        const buttonEl =\n",
              "          document.querySelector('#df-1f1ff31c-d753-4782-8434-05fc6bdd6ebf button.colab-df-convert');\n",
              "        buttonEl.style.display =\n",
              "          google.colab.kernel.accessAllowed ? 'block' : 'none';\n",
              "\n",
              "        async function convertToInteractive(key) {\n",
              "          const element = document.querySelector('#df-1f1ff31c-d753-4782-8434-05fc6bdd6ebf');\n",
              "          const dataTable =\n",
              "            await google.colab.kernel.invokeFunction('convertToInteractive',\n",
              "                                                     [key], {});\n",
              "          if (!dataTable) return;\n",
              "\n",
              "          const docLinkHtml = 'Like what you see? Visit the ' +\n",
              "            '<a target=\"_blank\" href=https://colab.research.google.com/notebooks/data_table.ipynb>data table notebook</a>'\n",
              "            + ' to learn more about interactive tables.';\n",
              "          element.innerHTML = '';\n",
              "          dataTable['output_type'] = 'display_data';\n",
              "          await google.colab.output.renderOutput(dataTable, element);\n",
              "          const docLink = document.createElement('div');\n",
              "          docLink.innerHTML = docLinkHtml;\n",
              "          element.appendChild(docLink);\n",
              "        }\n",
              "      </script>\n",
              "    </div>\n",
              "  </div>\n",
              "  "
            ]
          },
          "metadata": {},
          "execution_count": 57
        }
      ]
    },
    {
      "cell_type": "code",
      "source": [
        "# Extracting top 5 complaints for each topics\n",
        "ticket_system_pre_processed_top_complaint = ticket_system_pre_processed.groupby('Topic').head()\n",
        "ticket_system_pre_processed_top_complaint.sort_values('Topic')"
      ],
      "metadata": {
        "colab": {
          "base_uri": "https://localhost:8080/",
          "height": 833
        },
        "id": "EVyzukrHPcjJ",
        "outputId": "931c010f-beec-4cc5-c80c-6b9b3647e3bb"
      },
      "execution_count": 58,
      "outputs": [
        {
          "output_type": "execute_result",
          "data": {
            "text/plain": [
              "                               complaint_what_happened  \\\n",
              "1    good morning my name is xxxx xxxx and i apprec...   \n",
              "24   mishandling of this account by chase auto and ...   \n",
              "17   with out notice j.p. morgan chase restricted m...   \n",
              "14   my grand son give me check for {$.} i deposit ...   \n",
              "27   i opened an account with chase bank on xxxx an...   \n",
              "15                       can you please remove inquiry   \n",
              "10   chase card was reported on xx/xx/. however, fr...   \n",
              "23   i have a chase credit card which is incorrectl...   \n",
              "26   i have reached out to xxxx several times in at...   \n",
              "11   on xx/xx/, while trying to book a xxxx  xxxx  ...   \n",
              "127  i am xxxx military member ( xxxx ) with the xx...   \n",
              "99   my name is xxxx xxxx. i have missed a payment ...   \n",
              "81   i bought a new xxxx xxxx on xx/xx/xxxx from xx...   \n",
              "73   i have wired through one of chase branches in ...   \n",
              "57   i have been trying to do a loan modification w...   \n",
              "32   my chase amazon card was declined for a cateri...   \n",
              "30   to whom it may concern, chase bank charged wro...   \n",
              "2    i upgraded my xxxx xxxx card in xx/xx/ and was...   \n",
              "21   on xxxx xx/xx/, i made a {$.} payment to an on...   \n",
              "40   xxxx xxxx a sofa, love seat, table and chairs ...   \n",
              "58   i made a purchase of {$.} on xx/xx/xxxx. i mad...   \n",
              "141  action taken by the company between the dates ...   \n",
              "82   i recently called to ask chase bank why they r...   \n",
              "20   during the summer months, i experience a decli...   \n",
              "167  a double payment from my chase debt cart to ch...   \n",
              "\n",
              "                                             complaint  \\\n",
              "1    good morning my name be xxxx xxxx and I apprec...   \n",
              "24   mishandle of this account by chase auto and xx...   \n",
              "17   with out notice j.p . morgan chase restrict my...   \n",
              "14   my grand son give I check for { $ . } I deposi...   \n",
              "27   I open an account with chase bank on xxxx and ...   \n",
              "15                       can you please remove inquiry   \n",
              "10   chase card be report on xx / xx/. however , fr...   \n",
              "23   I have a chase credit card which be incorrectl...   \n",
              "26   I have reach out to xxxx several time in attem...   \n",
              "11   on xx / xx/ , while try to book a xxxx   xxxx ...   \n",
              "127  I be xxxx military member ( xxxx ) with the xx...   \n",
              "99   my name be xxxx xxxx . I have miss a payment i...   \n",
              "81   I buy a new xxxx xxxx on xx / xx / xxxx from x...   \n",
              "73   I have wire through one of chase branch in xxx...   \n",
              "57   I have be try to do a loan modification with c...   \n",
              "32   my chase amazon card be decline for a catering...   \n",
              "30   to whom it may concern , chase bank charge wro...   \n",
              "2    I upgrade my xxxx xxxx card in xx / xx/ and be...   \n",
              "21   on xxxx xx / xx/ , I make a { $ . } payment to...   \n",
              "40   xxxx xxxx a sofa , love seat , table and chair...   \n",
              "58   I make a purchase of { $ . } on xx / xx / xxxx...   \n",
              "141  action take by the company between the date of...   \n",
              "82   I recently call to ask chase bank why they rep...   \n",
              "20   during the summer month , I experience a decli...   \n",
              "167  a double payment from my chase debt cart to ch...   \n",
              "\n",
              "                                         complaint_POS  Topic  \n",
              "1    morning name stop bank cardmember ask debt ver...      0  \n",
              "24                         mishandle account auto xxxx      0  \n",
              "17   j.p restrict account debit card tuesday branch...      0  \n",
              "14   son chase account fund bank account pay money ...      0  \n",
              "27   account bank code bonus term everything accoun...      0  \n",
              "15                                             inquiry      1  \n",
              "10   card application identity consent service cred...      1  \n",
              "23   chase credit card datum credit report company ...      1  \n",
              "26   time attempt inquiry creditor place inquiry re...      1  \n",
              "11   try book xxxx ticket offer ticket card informa...      1  \n",
              "127  member xxxx auto finance gap insurance waiver ...      2  \n",
              "99   name payment day time loan modification loss m...      2  \n",
              "81   xxxx xxxx loan title time resolution time noth...      2  \n",
              "73   chase branch reinstatement amount bank order f...      2  \n",
              "57       loan modification chase runaround payment doc      2  \n",
              "32   chase card decline catering order place brothe...      3  \n",
              "30   concern chase bank charge fee balance fee bala...      3  \n",
              "2    card agent upgrade date agent information orde...      3  \n",
              "21   payment online retailer use pay xxxx chase web...      3  \n",
              "40   xxxx sofa seat chair debit charge bank deny cl...      3  \n",
              "58   purchase payment payment closing date statemen...      4  \n",
              "141  action company date xx individual group contac...      4  \n",
              "82   bank credit bureau day payment info xxxx bill ...      4  \n",
              "20   summer month income employment month payment e...      4  \n",
              "167  payment debt cart credit card post request day...      4  "
            ],
            "text/html": [
              "\n",
              "  <div id=\"df-120eb324-b980-4290-a5b8-f093ed1f1ea6\">\n",
              "    <div class=\"colab-df-container\">\n",
              "      <div>\n",
              "<style scoped>\n",
              "    .dataframe tbody tr th:only-of-type {\n",
              "        vertical-align: middle;\n",
              "    }\n",
              "\n",
              "    .dataframe tbody tr th {\n",
              "        vertical-align: top;\n",
              "    }\n",
              "\n",
              "    .dataframe thead th {\n",
              "        text-align: right;\n",
              "    }\n",
              "</style>\n",
              "<table border=\"1\" class=\"dataframe\">\n",
              "  <thead>\n",
              "    <tr style=\"text-align: right;\">\n",
              "      <th></th>\n",
              "      <th>complaint_what_happened</th>\n",
              "      <th>complaint</th>\n",
              "      <th>complaint_POS</th>\n",
              "      <th>Topic</th>\n",
              "    </tr>\n",
              "  </thead>\n",
              "  <tbody>\n",
              "    <tr>\n",
              "      <th>1</th>\n",
              "      <td>good morning my name is xxxx xxxx and i apprec...</td>\n",
              "      <td>good morning my name be xxxx xxxx and I apprec...</td>\n",
              "      <td>morning name stop bank cardmember ask debt ver...</td>\n",
              "      <td>0</td>\n",
              "    </tr>\n",
              "    <tr>\n",
              "      <th>24</th>\n",
              "      <td>mishandling of this account by chase auto and ...</td>\n",
              "      <td>mishandle of this account by chase auto and xx...</td>\n",
              "      <td>mishandle account auto xxxx</td>\n",
              "      <td>0</td>\n",
              "    </tr>\n",
              "    <tr>\n",
              "      <th>17</th>\n",
              "      <td>with out notice j.p. morgan chase restricted m...</td>\n",
              "      <td>with out notice j.p . morgan chase restrict my...</td>\n",
              "      <td>j.p restrict account debit card tuesday branch...</td>\n",
              "      <td>0</td>\n",
              "    </tr>\n",
              "    <tr>\n",
              "      <th>14</th>\n",
              "      <td>my grand son give me check for {$.} i deposit ...</td>\n",
              "      <td>my grand son give I check for { $ . } I deposi...</td>\n",
              "      <td>son chase account fund bank account pay money ...</td>\n",
              "      <td>0</td>\n",
              "    </tr>\n",
              "    <tr>\n",
              "      <th>27</th>\n",
              "      <td>i opened an account with chase bank on xxxx an...</td>\n",
              "      <td>I open an account with chase bank on xxxx and ...</td>\n",
              "      <td>account bank code bonus term everything accoun...</td>\n",
              "      <td>0</td>\n",
              "    </tr>\n",
              "    <tr>\n",
              "      <th>15</th>\n",
              "      <td>can you please remove inquiry</td>\n",
              "      <td>can you please remove inquiry</td>\n",
              "      <td>inquiry</td>\n",
              "      <td>1</td>\n",
              "    </tr>\n",
              "    <tr>\n",
              "      <th>10</th>\n",
              "      <td>chase card was reported on xx/xx/. however, fr...</td>\n",
              "      <td>chase card be report on xx / xx/. however , fr...</td>\n",
              "      <td>card application identity consent service cred...</td>\n",
              "      <td>1</td>\n",
              "    </tr>\n",
              "    <tr>\n",
              "      <th>23</th>\n",
              "      <td>i have a chase credit card which is incorrectl...</td>\n",
              "      <td>I have a chase credit card which be incorrectl...</td>\n",
              "      <td>chase credit card datum credit report company ...</td>\n",
              "      <td>1</td>\n",
              "    </tr>\n",
              "    <tr>\n",
              "      <th>26</th>\n",
              "      <td>i have reached out to xxxx several times in at...</td>\n",
              "      <td>I have reach out to xxxx several time in attem...</td>\n",
              "      <td>time attempt inquiry creditor place inquiry re...</td>\n",
              "      <td>1</td>\n",
              "    </tr>\n",
              "    <tr>\n",
              "      <th>11</th>\n",
              "      <td>on xx/xx/, while trying to book a xxxx  xxxx  ...</td>\n",
              "      <td>on xx / xx/ , while try to book a xxxx   xxxx ...</td>\n",
              "      <td>try book xxxx ticket offer ticket card informa...</td>\n",
              "      <td>1</td>\n",
              "    </tr>\n",
              "    <tr>\n",
              "      <th>127</th>\n",
              "      <td>i am xxxx military member ( xxxx ) with the xx...</td>\n",
              "      <td>I be xxxx military member ( xxxx ) with the xx...</td>\n",
              "      <td>member xxxx auto finance gap insurance waiver ...</td>\n",
              "      <td>2</td>\n",
              "    </tr>\n",
              "    <tr>\n",
              "      <th>99</th>\n",
              "      <td>my name is xxxx xxxx. i have missed a payment ...</td>\n",
              "      <td>my name be xxxx xxxx . I have miss a payment i...</td>\n",
              "      <td>name payment day time loan modification loss m...</td>\n",
              "      <td>2</td>\n",
              "    </tr>\n",
              "    <tr>\n",
              "      <th>81</th>\n",
              "      <td>i bought a new xxxx xxxx on xx/xx/xxxx from xx...</td>\n",
              "      <td>I buy a new xxxx xxxx on xx / xx / xxxx from x...</td>\n",
              "      <td>xxxx xxxx loan title time resolution time noth...</td>\n",
              "      <td>2</td>\n",
              "    </tr>\n",
              "    <tr>\n",
              "      <th>73</th>\n",
              "      <td>i have wired through one of chase branches in ...</td>\n",
              "      <td>I have wire through one of chase branch in xxx...</td>\n",
              "      <td>chase branch reinstatement amount bank order f...</td>\n",
              "      <td>2</td>\n",
              "    </tr>\n",
              "    <tr>\n",
              "      <th>57</th>\n",
              "      <td>i have been trying to do a loan modification w...</td>\n",
              "      <td>I have be try to do a loan modification with c...</td>\n",
              "      <td>loan modification chase runaround payment doc</td>\n",
              "      <td>2</td>\n",
              "    </tr>\n",
              "    <tr>\n",
              "      <th>32</th>\n",
              "      <td>my chase amazon card was declined for a cateri...</td>\n",
              "      <td>my chase amazon card be decline for a catering...</td>\n",
              "      <td>chase card decline catering order place brothe...</td>\n",
              "      <td>3</td>\n",
              "    </tr>\n",
              "    <tr>\n",
              "      <th>30</th>\n",
              "      <td>to whom it may concern, chase bank charged wro...</td>\n",
              "      <td>to whom it may concern , chase bank charge wro...</td>\n",
              "      <td>concern chase bank charge fee balance fee bala...</td>\n",
              "      <td>3</td>\n",
              "    </tr>\n",
              "    <tr>\n",
              "      <th>2</th>\n",
              "      <td>i upgraded my xxxx xxxx card in xx/xx/ and was...</td>\n",
              "      <td>I upgrade my xxxx xxxx card in xx / xx/ and be...</td>\n",
              "      <td>card agent upgrade date agent information orde...</td>\n",
              "      <td>3</td>\n",
              "    </tr>\n",
              "    <tr>\n",
              "      <th>21</th>\n",
              "      <td>on xxxx xx/xx/, i made a {$.} payment to an on...</td>\n",
              "      <td>on xxxx xx / xx/ , I make a { $ . } payment to...</td>\n",
              "      <td>payment online retailer use pay xxxx chase web...</td>\n",
              "      <td>3</td>\n",
              "    </tr>\n",
              "    <tr>\n",
              "      <th>40</th>\n",
              "      <td>xxxx xxxx a sofa, love seat, table and chairs ...</td>\n",
              "      <td>xxxx xxxx a sofa , love seat , table and chair...</td>\n",
              "      <td>xxxx sofa seat chair debit charge bank deny cl...</td>\n",
              "      <td>3</td>\n",
              "    </tr>\n",
              "    <tr>\n",
              "      <th>58</th>\n",
              "      <td>i made a purchase of {$.} on xx/xx/xxxx. i mad...</td>\n",
              "      <td>I make a purchase of { $ . } on xx / xx / xxxx...</td>\n",
              "      <td>purchase payment payment closing date statemen...</td>\n",
              "      <td>4</td>\n",
              "    </tr>\n",
              "    <tr>\n",
              "      <th>141</th>\n",
              "      <td>action taken by the company between the dates ...</td>\n",
              "      <td>action take by the company between the date of...</td>\n",
              "      <td>action company date xx individual group contac...</td>\n",
              "      <td>4</td>\n",
              "    </tr>\n",
              "    <tr>\n",
              "      <th>82</th>\n",
              "      <td>i recently called to ask chase bank why they r...</td>\n",
              "      <td>I recently call to ask chase bank why they rep...</td>\n",
              "      <td>bank credit bureau day payment info xxxx bill ...</td>\n",
              "      <td>4</td>\n",
              "    </tr>\n",
              "    <tr>\n",
              "      <th>20</th>\n",
              "      <td>during the summer months, i experience a decli...</td>\n",
              "      <td>during the summer month , I experience a decli...</td>\n",
              "      <td>summer month income employment month payment e...</td>\n",
              "      <td>4</td>\n",
              "    </tr>\n",
              "    <tr>\n",
              "      <th>167</th>\n",
              "      <td>a double payment from my chase debt cart to ch...</td>\n",
              "      <td>a double payment from my chase debt cart to ch...</td>\n",
              "      <td>payment debt cart credit card post request day...</td>\n",
              "      <td>4</td>\n",
              "    </tr>\n",
              "  </tbody>\n",
              "</table>\n",
              "</div>\n",
              "      <button class=\"colab-df-convert\" onclick=\"convertToInteractive('df-120eb324-b980-4290-a5b8-f093ed1f1ea6')\"\n",
              "              title=\"Convert this dataframe to an interactive table.\"\n",
              "              style=\"display:none;\">\n",
              "        \n",
              "  <svg xmlns=\"http://www.w3.org/2000/svg\" height=\"24px\"viewBox=\"0 0 24 24\"\n",
              "       width=\"24px\">\n",
              "    <path d=\"M0 0h24v24H0V0z\" fill=\"none\"/>\n",
              "    <path d=\"M18.56 5.44l.94 2.06.94-2.06 2.06-.94-2.06-.94-.94-2.06-.94 2.06-2.06.94zm-11 1L8.5 8.5l.94-2.06 2.06-.94-2.06-.94L8.5 2.5l-.94 2.06-2.06.94zm10 10l.94 2.06.94-2.06 2.06-.94-2.06-.94-.94-2.06-.94 2.06-2.06.94z\"/><path d=\"M17.41 7.96l-1.37-1.37c-.4-.4-.92-.59-1.43-.59-.52 0-1.04.2-1.43.59L10.3 9.45l-7.72 7.72c-.78.78-.78 2.05 0 2.83L4 21.41c.39.39.9.59 1.41.59.51 0 1.02-.2 1.41-.59l7.78-7.78 2.81-2.81c.8-.78.8-2.07 0-2.86zM5.41 20L4 18.59l7.72-7.72 1.47 1.35L5.41 20z\"/>\n",
              "  </svg>\n",
              "      </button>\n",
              "      \n",
              "  <style>\n",
              "    .colab-df-container {\n",
              "      display:flex;\n",
              "      flex-wrap:wrap;\n",
              "      gap: 12px;\n",
              "    }\n",
              "\n",
              "    .colab-df-convert {\n",
              "      background-color: #E8F0FE;\n",
              "      border: none;\n",
              "      border-radius: 50%;\n",
              "      cursor: pointer;\n",
              "      display: none;\n",
              "      fill: #1967D2;\n",
              "      height: 32px;\n",
              "      padding: 0 0 0 0;\n",
              "      width: 32px;\n",
              "    }\n",
              "\n",
              "    .colab-df-convert:hover {\n",
              "      background-color: #E2EBFA;\n",
              "      box-shadow: 0px 1px 2px rgba(60, 64, 67, 0.3), 0px 1px 3px 1px rgba(60, 64, 67, 0.15);\n",
              "      fill: #174EA6;\n",
              "    }\n",
              "\n",
              "    [theme=dark] .colab-df-convert {\n",
              "      background-color: #3B4455;\n",
              "      fill: #D2E3FC;\n",
              "    }\n",
              "\n",
              "    [theme=dark] .colab-df-convert:hover {\n",
              "      background-color: #434B5C;\n",
              "      box-shadow: 0px 1px 3px 1px rgba(0, 0, 0, 0.15);\n",
              "      filter: drop-shadow(0px 1px 2px rgba(0, 0, 0, 0.3));\n",
              "      fill: #FFFFFF;\n",
              "    }\n",
              "  </style>\n",
              "\n",
              "      <script>\n",
              "        const buttonEl =\n",
              "          document.querySelector('#df-120eb324-b980-4290-a5b8-f093ed1f1ea6 button.colab-df-convert');\n",
              "        buttonEl.style.display =\n",
              "          google.colab.kernel.accessAllowed ? 'block' : 'none';\n",
              "\n",
              "        async function convertToInteractive(key) {\n",
              "          const element = document.querySelector('#df-120eb324-b980-4290-a5b8-f093ed1f1ea6');\n",
              "          const dataTable =\n",
              "            await google.colab.kernel.invokeFunction('convertToInteractive',\n",
              "                                                     [key], {});\n",
              "          if (!dataTable) return;\n",
              "\n",
              "          const docLinkHtml = 'Like what you see? Visit the ' +\n",
              "            '<a target=\"_blank\" href=https://colab.research.google.com/notebooks/data_table.ipynb>data table notebook</a>'\n",
              "            + ' to learn more about interactive tables.';\n",
              "          element.innerHTML = '';\n",
              "          dataTable['output_type'] = 'display_data';\n",
              "          await google.colab.output.renderOutput(dataTable, element);\n",
              "          const docLink = document.createElement('div');\n",
              "          docLink.innerHTML = docLinkHtml;\n",
              "          element.appendChild(docLink);\n",
              "        }\n",
              "      </script>\n",
              "    </div>\n",
              "  </div>\n",
              "  "
            ]
          },
          "metadata": {},
          "execution_count": 58
        }
      ]
    },
    {
      "cell_type": "code",
      "source": [
        "# Creating mapping of topics as per the problem statement\n",
        "ticket_system_pre_processed.replace({'Topic':{0:\"Banking Services\",\n",
        "                                              1:\"Card\",\n",
        "                                              2:\"Others\",\n",
        "                                              3:\"Fraudulent Reporting\",\n",
        "                                              4:\"Loans\"}}, inplace = True)"
      ],
      "metadata": {
        "id": "ZwHOuNO_OsAm"
      },
      "execution_count": 59,
      "outputs": []
    },
    {
      "cell_type": "code",
      "source": [
        "ticket_system_pre_processed.head()"
      ],
      "metadata": {
        "colab": {
          "base_uri": "https://localhost:8080/",
          "height": 206
        },
        "id": "blr4tDoMP0au",
        "outputId": "68862b9d-cf71-47a3-93b6-6d9e8ff2334f"
      },
      "execution_count": 60,
      "outputs": [
        {
          "output_type": "execute_result",
          "data": {
            "text/plain": [
              "                              complaint_what_happened  \\\n",
              "1   good morning my name is xxxx xxxx and i apprec...   \n",
              "2   i upgraded my xxxx xxxx card in xx/xx/ and was...   \n",
              "10  chase card was reported on xx/xx/. however, fr...   \n",
              "11  on xx/xx/, while trying to book a xxxx  xxxx  ...   \n",
              "14  my grand son give me check for {$.} i deposit ...   \n",
              "\n",
              "                                            complaint  \\\n",
              "1   good morning my name be xxxx xxxx and I apprec...   \n",
              "2   I upgrade my xxxx xxxx card in xx / xx/ and be...   \n",
              "10  chase card be report on xx / xx/. however , fr...   \n",
              "11  on xx / xx/ , while try to book a xxxx   xxxx ...   \n",
              "14  my grand son give I check for { $ . } I deposi...   \n",
              "\n",
              "                                        complaint_POS                 Topic  \n",
              "1   morning name stop bank cardmember ask debt ver...      Banking Services  \n",
              "2   card agent upgrade date agent information orde...  Fraudulent Reporting  \n",
              "10  card application identity consent service cred...                  Card  \n",
              "11  try book xxxx ticket offer ticket card informa...                  Card  \n",
              "14  son chase account fund bank account pay money ...      Banking Services  "
            ],
            "text/html": [
              "\n",
              "  <div id=\"df-caac443b-7f7b-473b-a3c3-766db4da31c3\">\n",
              "    <div class=\"colab-df-container\">\n",
              "      <div>\n",
              "<style scoped>\n",
              "    .dataframe tbody tr th:only-of-type {\n",
              "        vertical-align: middle;\n",
              "    }\n",
              "\n",
              "    .dataframe tbody tr th {\n",
              "        vertical-align: top;\n",
              "    }\n",
              "\n",
              "    .dataframe thead th {\n",
              "        text-align: right;\n",
              "    }\n",
              "</style>\n",
              "<table border=\"1\" class=\"dataframe\">\n",
              "  <thead>\n",
              "    <tr style=\"text-align: right;\">\n",
              "      <th></th>\n",
              "      <th>complaint_what_happened</th>\n",
              "      <th>complaint</th>\n",
              "      <th>complaint_POS</th>\n",
              "      <th>Topic</th>\n",
              "    </tr>\n",
              "  </thead>\n",
              "  <tbody>\n",
              "    <tr>\n",
              "      <th>1</th>\n",
              "      <td>good morning my name is xxxx xxxx and i apprec...</td>\n",
              "      <td>good morning my name be xxxx xxxx and I apprec...</td>\n",
              "      <td>morning name stop bank cardmember ask debt ver...</td>\n",
              "      <td>Banking Services</td>\n",
              "    </tr>\n",
              "    <tr>\n",
              "      <th>2</th>\n",
              "      <td>i upgraded my xxxx xxxx card in xx/xx/ and was...</td>\n",
              "      <td>I upgrade my xxxx xxxx card in xx / xx/ and be...</td>\n",
              "      <td>card agent upgrade date agent information orde...</td>\n",
              "      <td>Fraudulent Reporting</td>\n",
              "    </tr>\n",
              "    <tr>\n",
              "      <th>10</th>\n",
              "      <td>chase card was reported on xx/xx/. however, fr...</td>\n",
              "      <td>chase card be report on xx / xx/. however , fr...</td>\n",
              "      <td>card application identity consent service cred...</td>\n",
              "      <td>Card</td>\n",
              "    </tr>\n",
              "    <tr>\n",
              "      <th>11</th>\n",
              "      <td>on xx/xx/, while trying to book a xxxx  xxxx  ...</td>\n",
              "      <td>on xx / xx/ , while try to book a xxxx   xxxx ...</td>\n",
              "      <td>try book xxxx ticket offer ticket card informa...</td>\n",
              "      <td>Card</td>\n",
              "    </tr>\n",
              "    <tr>\n",
              "      <th>14</th>\n",
              "      <td>my grand son give me check for {$.} i deposit ...</td>\n",
              "      <td>my grand son give I check for { $ . } I deposi...</td>\n",
              "      <td>son chase account fund bank account pay money ...</td>\n",
              "      <td>Banking Services</td>\n",
              "    </tr>\n",
              "  </tbody>\n",
              "</table>\n",
              "</div>\n",
              "      <button class=\"colab-df-convert\" onclick=\"convertToInteractive('df-caac443b-7f7b-473b-a3c3-766db4da31c3')\"\n",
              "              title=\"Convert this dataframe to an interactive table.\"\n",
              "              style=\"display:none;\">\n",
              "        \n",
              "  <svg xmlns=\"http://www.w3.org/2000/svg\" height=\"24px\"viewBox=\"0 0 24 24\"\n",
              "       width=\"24px\">\n",
              "    <path d=\"M0 0h24v24H0V0z\" fill=\"none\"/>\n",
              "    <path d=\"M18.56 5.44l.94 2.06.94-2.06 2.06-.94-2.06-.94-.94-2.06-.94 2.06-2.06.94zm-11 1L8.5 8.5l.94-2.06 2.06-.94-2.06-.94L8.5 2.5l-.94 2.06-2.06.94zm10 10l.94 2.06.94-2.06 2.06-.94-2.06-.94-.94-2.06-.94 2.06-2.06.94z\"/><path d=\"M17.41 7.96l-1.37-1.37c-.4-.4-.92-.59-1.43-.59-.52 0-1.04.2-1.43.59L10.3 9.45l-7.72 7.72c-.78.78-.78 2.05 0 2.83L4 21.41c.39.39.9.59 1.41.59.51 0 1.02-.2 1.41-.59l7.78-7.78 2.81-2.81c.8-.78.8-2.07 0-2.86zM5.41 20L4 18.59l7.72-7.72 1.47 1.35L5.41 20z\"/>\n",
              "  </svg>\n",
              "      </button>\n",
              "      \n",
              "  <style>\n",
              "    .colab-df-container {\n",
              "      display:flex;\n",
              "      flex-wrap:wrap;\n",
              "      gap: 12px;\n",
              "    }\n",
              "\n",
              "    .colab-df-convert {\n",
              "      background-color: #E8F0FE;\n",
              "      border: none;\n",
              "      border-radius: 50%;\n",
              "      cursor: pointer;\n",
              "      display: none;\n",
              "      fill: #1967D2;\n",
              "      height: 32px;\n",
              "      padding: 0 0 0 0;\n",
              "      width: 32px;\n",
              "    }\n",
              "\n",
              "    .colab-df-convert:hover {\n",
              "      background-color: #E2EBFA;\n",
              "      box-shadow: 0px 1px 2px rgba(60, 64, 67, 0.3), 0px 1px 3px 1px rgba(60, 64, 67, 0.15);\n",
              "      fill: #174EA6;\n",
              "    }\n",
              "\n",
              "    [theme=dark] .colab-df-convert {\n",
              "      background-color: #3B4455;\n",
              "      fill: #D2E3FC;\n",
              "    }\n",
              "\n",
              "    [theme=dark] .colab-df-convert:hover {\n",
              "      background-color: #434B5C;\n",
              "      box-shadow: 0px 1px 3px 1px rgba(0, 0, 0, 0.15);\n",
              "      filter: drop-shadow(0px 1px 2px rgba(0, 0, 0, 0.3));\n",
              "      fill: #FFFFFF;\n",
              "    }\n",
              "  </style>\n",
              "\n",
              "      <script>\n",
              "        const buttonEl =\n",
              "          document.querySelector('#df-caac443b-7f7b-473b-a3c3-766db4da31c3 button.colab-df-convert');\n",
              "        buttonEl.style.display =\n",
              "          google.colab.kernel.accessAllowed ? 'block' : 'none';\n",
              "\n",
              "        async function convertToInteractive(key) {\n",
              "          const element = document.querySelector('#df-caac443b-7f7b-473b-a3c3-766db4da31c3');\n",
              "          const dataTable =\n",
              "            await google.colab.kernel.invokeFunction('convertToInteractive',\n",
              "                                                     [key], {});\n",
              "          if (!dataTable) return;\n",
              "\n",
              "          const docLinkHtml = 'Like what you see? Visit the ' +\n",
              "            '<a target=\"_blank\" href=https://colab.research.google.com/notebooks/data_table.ipynb>data table notebook</a>'\n",
              "            + ' to learn more about interactive tables.';\n",
              "          element.innerHTML = '';\n",
              "          dataTable['output_type'] = 'display_data';\n",
              "          await google.colab.output.renderOutput(dataTable, element);\n",
              "          const docLink = document.createElement('div');\n",
              "          docLink.innerHTML = docLinkHtml;\n",
              "          element.appendChild(docLink);\n",
              "        }\n",
              "      </script>\n",
              "    </div>\n",
              "  </div>\n",
              "  "
            ]
          },
          "metadata": {},
          "execution_count": 60
        }
      ]
    },
    {
      "cell_type": "code",
      "source": [
        "ticket_system_pre_processed.tail()"
      ],
      "metadata": {
        "colab": {
          "base_uri": "https://localhost:8080/",
          "height": 206
        },
        "id": "JCPGhXd4P3gN",
        "outputId": "3ee99ef4-46be-4666-968b-1f47a9bd7c47"
      },
      "execution_count": 61,
      "outputs": [
        {
          "output_type": "execute_result",
          "data": {
            "text/plain": [
              "                                 complaint_what_happened  \\\n",
              "78303  after being a chase card customer for well ove...   \n",
              "78309  on wednesday, xx/xx/xxxx i called chas, my xxx...   \n",
              "78310  i am not familiar with xxxx pay and did not un...   \n",
              "78311  i have had flawless credit for  yrs. i've had ...   \n",
              "78312  roughly + years ago i closed out my accounts w...   \n",
              "\n",
              "                                               complaint  \\\n",
              "78303  after be a chase card customer for well over a...   \n",
              "78309  on wednesday , xx / xx / xxxx I call chas , my...   \n",
              "78310  I be not familiar with xxxx pay and do not und...   \n",
              "78311  I have have flawless credit for   yrs . I 've ...   \n",
              "78312  roughly + year ago I close out my account with...   \n",
              "\n",
              "                                           complaint_POS                 Topic  \n",
              "78303  card customer decade solicitation credit card ...                  Card  \n",
              "78309  wednesday chas visa credit card provider claim...  Fraudulent Reporting  \n",
              "78310  pay risk provide consumer bank app chase year ...  Fraudulent Reporting  \n",
              "78311  credit yrs credit card chase freedom xxxx prob...                 Loans  \n",
              "78312  year account jp bank xxxx order line credit ac...                 Loans  "
            ],
            "text/html": [
              "\n",
              "  <div id=\"df-c5609aea-ff47-4150-aa63-b56d6aaece43\">\n",
              "    <div class=\"colab-df-container\">\n",
              "      <div>\n",
              "<style scoped>\n",
              "    .dataframe tbody tr th:only-of-type {\n",
              "        vertical-align: middle;\n",
              "    }\n",
              "\n",
              "    .dataframe tbody tr th {\n",
              "        vertical-align: top;\n",
              "    }\n",
              "\n",
              "    .dataframe thead th {\n",
              "        text-align: right;\n",
              "    }\n",
              "</style>\n",
              "<table border=\"1\" class=\"dataframe\">\n",
              "  <thead>\n",
              "    <tr style=\"text-align: right;\">\n",
              "      <th></th>\n",
              "      <th>complaint_what_happened</th>\n",
              "      <th>complaint</th>\n",
              "      <th>complaint_POS</th>\n",
              "      <th>Topic</th>\n",
              "    </tr>\n",
              "  </thead>\n",
              "  <tbody>\n",
              "    <tr>\n",
              "      <th>78303</th>\n",
              "      <td>after being a chase card customer for well ove...</td>\n",
              "      <td>after be a chase card customer for well over a...</td>\n",
              "      <td>card customer decade solicitation credit card ...</td>\n",
              "      <td>Card</td>\n",
              "    </tr>\n",
              "    <tr>\n",
              "      <th>78309</th>\n",
              "      <td>on wednesday, xx/xx/xxxx i called chas, my xxx...</td>\n",
              "      <td>on wednesday , xx / xx / xxxx I call chas , my...</td>\n",
              "      <td>wednesday chas visa credit card provider claim...</td>\n",
              "      <td>Fraudulent Reporting</td>\n",
              "    </tr>\n",
              "    <tr>\n",
              "      <th>78310</th>\n",
              "      <td>i am not familiar with xxxx pay and did not un...</td>\n",
              "      <td>I be not familiar with xxxx pay and do not und...</td>\n",
              "      <td>pay risk provide consumer bank app chase year ...</td>\n",
              "      <td>Fraudulent Reporting</td>\n",
              "    </tr>\n",
              "    <tr>\n",
              "      <th>78311</th>\n",
              "      <td>i have had flawless credit for  yrs. i've had ...</td>\n",
              "      <td>I have have flawless credit for   yrs . I 've ...</td>\n",
              "      <td>credit yrs credit card chase freedom xxxx prob...</td>\n",
              "      <td>Loans</td>\n",
              "    </tr>\n",
              "    <tr>\n",
              "      <th>78312</th>\n",
              "      <td>roughly + years ago i closed out my accounts w...</td>\n",
              "      <td>roughly + year ago I close out my account with...</td>\n",
              "      <td>year account jp bank xxxx order line credit ac...</td>\n",
              "      <td>Loans</td>\n",
              "    </tr>\n",
              "  </tbody>\n",
              "</table>\n",
              "</div>\n",
              "      <button class=\"colab-df-convert\" onclick=\"convertToInteractive('df-c5609aea-ff47-4150-aa63-b56d6aaece43')\"\n",
              "              title=\"Convert this dataframe to an interactive table.\"\n",
              "              style=\"display:none;\">\n",
              "        \n",
              "  <svg xmlns=\"http://www.w3.org/2000/svg\" height=\"24px\"viewBox=\"0 0 24 24\"\n",
              "       width=\"24px\">\n",
              "    <path d=\"M0 0h24v24H0V0z\" fill=\"none\"/>\n",
              "    <path d=\"M18.56 5.44l.94 2.06.94-2.06 2.06-.94-2.06-.94-.94-2.06-.94 2.06-2.06.94zm-11 1L8.5 8.5l.94-2.06 2.06-.94-2.06-.94L8.5 2.5l-.94 2.06-2.06.94zm10 10l.94 2.06.94-2.06 2.06-.94-2.06-.94-.94-2.06-.94 2.06-2.06.94z\"/><path d=\"M17.41 7.96l-1.37-1.37c-.4-.4-.92-.59-1.43-.59-.52 0-1.04.2-1.43.59L10.3 9.45l-7.72 7.72c-.78.78-.78 2.05 0 2.83L4 21.41c.39.39.9.59 1.41.59.51 0 1.02-.2 1.41-.59l7.78-7.78 2.81-2.81c.8-.78.8-2.07 0-2.86zM5.41 20L4 18.59l7.72-7.72 1.47 1.35L5.41 20z\"/>\n",
              "  </svg>\n",
              "      </button>\n",
              "      \n",
              "  <style>\n",
              "    .colab-df-container {\n",
              "      display:flex;\n",
              "      flex-wrap:wrap;\n",
              "      gap: 12px;\n",
              "    }\n",
              "\n",
              "    .colab-df-convert {\n",
              "      background-color: #E8F0FE;\n",
              "      border: none;\n",
              "      border-radius: 50%;\n",
              "      cursor: pointer;\n",
              "      display: none;\n",
              "      fill: #1967D2;\n",
              "      height: 32px;\n",
              "      padding: 0 0 0 0;\n",
              "      width: 32px;\n",
              "    }\n",
              "\n",
              "    .colab-df-convert:hover {\n",
              "      background-color: #E2EBFA;\n",
              "      box-shadow: 0px 1px 2px rgba(60, 64, 67, 0.3), 0px 1px 3px 1px rgba(60, 64, 67, 0.15);\n",
              "      fill: #174EA6;\n",
              "    }\n",
              "\n",
              "    [theme=dark] .colab-df-convert {\n",
              "      background-color: #3B4455;\n",
              "      fill: #D2E3FC;\n",
              "    }\n",
              "\n",
              "    [theme=dark] .colab-df-convert:hover {\n",
              "      background-color: #434B5C;\n",
              "      box-shadow: 0px 1px 3px 1px rgba(0, 0, 0, 0.15);\n",
              "      filter: drop-shadow(0px 1px 2px rgba(0, 0, 0, 0.3));\n",
              "      fill: #FFFFFF;\n",
              "    }\n",
              "  </style>\n",
              "\n",
              "      <script>\n",
              "        const buttonEl =\n",
              "          document.querySelector('#df-c5609aea-ff47-4150-aa63-b56d6aaece43 button.colab-df-convert');\n",
              "        buttonEl.style.display =\n",
              "          google.colab.kernel.accessAllowed ? 'block' : 'none';\n",
              "\n",
              "        async function convertToInteractive(key) {\n",
              "          const element = document.querySelector('#df-c5609aea-ff47-4150-aa63-b56d6aaece43');\n",
              "          const dataTable =\n",
              "            await google.colab.kernel.invokeFunction('convertToInteractive',\n",
              "                                                     [key], {});\n",
              "          if (!dataTable) return;\n",
              "\n",
              "          const docLinkHtml = 'Like what you see? Visit the ' +\n",
              "            '<a target=\"_blank\" href=https://colab.research.google.com/notebooks/data_table.ipynb>data table notebook</a>'\n",
              "            + ' to learn more about interactive tables.';\n",
              "          element.innerHTML = '';\n",
              "          dataTable['output_type'] = 'display_data';\n",
              "          await google.colab.output.renderOutput(dataTable, element);\n",
              "          const docLink = document.createElement('div');\n",
              "          docLink.innerHTML = docLinkHtml;\n",
              "          element.appendChild(docLink);\n",
              "        }\n",
              "      </script>\n",
              "    </div>\n",
              "  </div>\n",
              "  "
            ]
          },
          "metadata": {},
          "execution_count": 61
        }
      ]
    },
    {
      "cell_type": "code",
      "source": [
        "ticket_system_pre_processed.replace({'Topic':{\"Banking Services\": 0,\n",
        "                                              \"Card\": 1,\n",
        "                                              \"Others\": 2,\n",
        "                                              \"Fraudulent Reporting\": 3,\n",
        "                                              \"Loans\": 4}}, inplace = True)\n",
        "\n",
        "ticket_system_pre_processed.head()"
      ],
      "metadata": {
        "colab": {
          "base_uri": "https://localhost:8080/",
          "height": 206
        },
        "id": "oHah9JJfQvBl",
        "outputId": "877b1ff3-34d5-4070-c02d-eda1eb51bd5a"
      },
      "execution_count": 62,
      "outputs": [
        {
          "output_type": "execute_result",
          "data": {
            "text/plain": [
              "                              complaint_what_happened  \\\n",
              "1   good morning my name is xxxx xxxx and i apprec...   \n",
              "2   i upgraded my xxxx xxxx card in xx/xx/ and was...   \n",
              "10  chase card was reported on xx/xx/. however, fr...   \n",
              "11  on xx/xx/, while trying to book a xxxx  xxxx  ...   \n",
              "14  my grand son give me check for {$.} i deposit ...   \n",
              "\n",
              "                                            complaint  \\\n",
              "1   good morning my name be xxxx xxxx and I apprec...   \n",
              "2   I upgrade my xxxx xxxx card in xx / xx/ and be...   \n",
              "10  chase card be report on xx / xx/. however , fr...   \n",
              "11  on xx / xx/ , while try to book a xxxx   xxxx ...   \n",
              "14  my grand son give I check for { $ . } I deposi...   \n",
              "\n",
              "                                        complaint_POS  Topic  \n",
              "1   morning name stop bank cardmember ask debt ver...      0  \n",
              "2   card agent upgrade date agent information orde...      3  \n",
              "10  card application identity consent service cred...      1  \n",
              "11  try book xxxx ticket offer ticket card informa...      1  \n",
              "14  son chase account fund bank account pay money ...      0  "
            ],
            "text/html": [
              "\n",
              "  <div id=\"df-e024f831-104f-4abd-ac1d-3f295031195c\">\n",
              "    <div class=\"colab-df-container\">\n",
              "      <div>\n",
              "<style scoped>\n",
              "    .dataframe tbody tr th:only-of-type {\n",
              "        vertical-align: middle;\n",
              "    }\n",
              "\n",
              "    .dataframe tbody tr th {\n",
              "        vertical-align: top;\n",
              "    }\n",
              "\n",
              "    .dataframe thead th {\n",
              "        text-align: right;\n",
              "    }\n",
              "</style>\n",
              "<table border=\"1\" class=\"dataframe\">\n",
              "  <thead>\n",
              "    <tr style=\"text-align: right;\">\n",
              "      <th></th>\n",
              "      <th>complaint_what_happened</th>\n",
              "      <th>complaint</th>\n",
              "      <th>complaint_POS</th>\n",
              "      <th>Topic</th>\n",
              "    </tr>\n",
              "  </thead>\n",
              "  <tbody>\n",
              "    <tr>\n",
              "      <th>1</th>\n",
              "      <td>good morning my name is xxxx xxxx and i apprec...</td>\n",
              "      <td>good morning my name be xxxx xxxx and I apprec...</td>\n",
              "      <td>morning name stop bank cardmember ask debt ver...</td>\n",
              "      <td>0</td>\n",
              "    </tr>\n",
              "    <tr>\n",
              "      <th>2</th>\n",
              "      <td>i upgraded my xxxx xxxx card in xx/xx/ and was...</td>\n",
              "      <td>I upgrade my xxxx xxxx card in xx / xx/ and be...</td>\n",
              "      <td>card agent upgrade date agent information orde...</td>\n",
              "      <td>3</td>\n",
              "    </tr>\n",
              "    <tr>\n",
              "      <th>10</th>\n",
              "      <td>chase card was reported on xx/xx/. however, fr...</td>\n",
              "      <td>chase card be report on xx / xx/. however , fr...</td>\n",
              "      <td>card application identity consent service cred...</td>\n",
              "      <td>1</td>\n",
              "    </tr>\n",
              "    <tr>\n",
              "      <th>11</th>\n",
              "      <td>on xx/xx/, while trying to book a xxxx  xxxx  ...</td>\n",
              "      <td>on xx / xx/ , while try to book a xxxx   xxxx ...</td>\n",
              "      <td>try book xxxx ticket offer ticket card informa...</td>\n",
              "      <td>1</td>\n",
              "    </tr>\n",
              "    <tr>\n",
              "      <th>14</th>\n",
              "      <td>my grand son give me check for {$.} i deposit ...</td>\n",
              "      <td>my grand son give I check for { $ . } I deposi...</td>\n",
              "      <td>son chase account fund bank account pay money ...</td>\n",
              "      <td>0</td>\n",
              "    </tr>\n",
              "  </tbody>\n",
              "</table>\n",
              "</div>\n",
              "      <button class=\"colab-df-convert\" onclick=\"convertToInteractive('df-e024f831-104f-4abd-ac1d-3f295031195c')\"\n",
              "              title=\"Convert this dataframe to an interactive table.\"\n",
              "              style=\"display:none;\">\n",
              "        \n",
              "  <svg xmlns=\"http://www.w3.org/2000/svg\" height=\"24px\"viewBox=\"0 0 24 24\"\n",
              "       width=\"24px\">\n",
              "    <path d=\"M0 0h24v24H0V0z\" fill=\"none\"/>\n",
              "    <path d=\"M18.56 5.44l.94 2.06.94-2.06 2.06-.94-2.06-.94-.94-2.06-.94 2.06-2.06.94zm-11 1L8.5 8.5l.94-2.06 2.06-.94-2.06-.94L8.5 2.5l-.94 2.06-2.06.94zm10 10l.94 2.06.94-2.06 2.06-.94-2.06-.94-.94-2.06-.94 2.06-2.06.94z\"/><path d=\"M17.41 7.96l-1.37-1.37c-.4-.4-.92-.59-1.43-.59-.52 0-1.04.2-1.43.59L10.3 9.45l-7.72 7.72c-.78.78-.78 2.05 0 2.83L4 21.41c.39.39.9.59 1.41.59.51 0 1.02-.2 1.41-.59l7.78-7.78 2.81-2.81c.8-.78.8-2.07 0-2.86zM5.41 20L4 18.59l7.72-7.72 1.47 1.35L5.41 20z\"/>\n",
              "  </svg>\n",
              "      </button>\n",
              "      \n",
              "  <style>\n",
              "    .colab-df-container {\n",
              "      display:flex;\n",
              "      flex-wrap:wrap;\n",
              "      gap: 12px;\n",
              "    }\n",
              "\n",
              "    .colab-df-convert {\n",
              "      background-color: #E8F0FE;\n",
              "      border: none;\n",
              "      border-radius: 50%;\n",
              "      cursor: pointer;\n",
              "      display: none;\n",
              "      fill: #1967D2;\n",
              "      height: 32px;\n",
              "      padding: 0 0 0 0;\n",
              "      width: 32px;\n",
              "    }\n",
              "\n",
              "    .colab-df-convert:hover {\n",
              "      background-color: #E2EBFA;\n",
              "      box-shadow: 0px 1px 2px rgba(60, 64, 67, 0.3), 0px 1px 3px 1px rgba(60, 64, 67, 0.15);\n",
              "      fill: #174EA6;\n",
              "    }\n",
              "\n",
              "    [theme=dark] .colab-df-convert {\n",
              "      background-color: #3B4455;\n",
              "      fill: #D2E3FC;\n",
              "    }\n",
              "\n",
              "    [theme=dark] .colab-df-convert:hover {\n",
              "      background-color: #434B5C;\n",
              "      box-shadow: 0px 1px 3px 1px rgba(0, 0, 0, 0.15);\n",
              "      filter: drop-shadow(0px 1px 2px rgba(0, 0, 0, 0.3));\n",
              "      fill: #FFFFFF;\n",
              "    }\n",
              "  </style>\n",
              "\n",
              "      <script>\n",
              "        const buttonEl =\n",
              "          document.querySelector('#df-e024f831-104f-4abd-ac1d-3f295031195c button.colab-df-convert');\n",
              "        buttonEl.style.display =\n",
              "          google.colab.kernel.accessAllowed ? 'block' : 'none';\n",
              "\n",
              "        async function convertToInteractive(key) {\n",
              "          const element = document.querySelector('#df-e024f831-104f-4abd-ac1d-3f295031195c');\n",
              "          const dataTable =\n",
              "            await google.colab.kernel.invokeFunction('convertToInteractive',\n",
              "                                                     [key], {});\n",
              "          if (!dataTable) return;\n",
              "\n",
              "          const docLinkHtml = 'Like what you see? Visit the ' +\n",
              "            '<a target=\"_blank\" href=https://colab.research.google.com/notebooks/data_table.ipynb>data table notebook</a>'\n",
              "            + ' to learn more about interactive tables.';\n",
              "          element.innerHTML = '';\n",
              "          dataTable['output_type'] = 'display_data';\n",
              "          await google.colab.output.renderOutput(dataTable, element);\n",
              "          const docLink = document.createElement('div');\n",
              "          docLink.innerHTML = docLinkHtml;\n",
              "          element.appendChild(docLink);\n",
              "        }\n",
              "      </script>\n",
              "    </div>\n",
              "  </div>\n",
              "  "
            ]
          },
          "metadata": {},
          "execution_count": 62
        }
      ]
    },
    {
      "cell_type": "code",
      "source": [
        "ticket_system_model_training = ticket_system_pre_processed[['complaint_what_happened', 'Topic']]\n",
        "ticket_system_model_training.head()"
      ],
      "metadata": {
        "colab": {
          "base_uri": "https://localhost:8080/",
          "height": 206
        },
        "id": "j9b-KXofP7UN",
        "outputId": "40e9bc59-208a-4a39-8f66-8c75a3d98b65"
      },
      "execution_count": 63,
      "outputs": [
        {
          "output_type": "execute_result",
          "data": {
            "text/plain": [
              "                              complaint_what_happened  Topic\n",
              "1   good morning my name is xxxx xxxx and i apprec...      0\n",
              "2   i upgraded my xxxx xxxx card in xx/xx/ and was...      3\n",
              "10  chase card was reported on xx/xx/. however, fr...      1\n",
              "11  on xx/xx/, while trying to book a xxxx  xxxx  ...      1\n",
              "14  my grand son give me check for {$.} i deposit ...      0"
            ],
            "text/html": [
              "\n",
              "  <div id=\"df-bc45bef3-e66c-4186-b672-7163c2d3737f\">\n",
              "    <div class=\"colab-df-container\">\n",
              "      <div>\n",
              "<style scoped>\n",
              "    .dataframe tbody tr th:only-of-type {\n",
              "        vertical-align: middle;\n",
              "    }\n",
              "\n",
              "    .dataframe tbody tr th {\n",
              "        vertical-align: top;\n",
              "    }\n",
              "\n",
              "    .dataframe thead th {\n",
              "        text-align: right;\n",
              "    }\n",
              "</style>\n",
              "<table border=\"1\" class=\"dataframe\">\n",
              "  <thead>\n",
              "    <tr style=\"text-align: right;\">\n",
              "      <th></th>\n",
              "      <th>complaint_what_happened</th>\n",
              "      <th>Topic</th>\n",
              "    </tr>\n",
              "  </thead>\n",
              "  <tbody>\n",
              "    <tr>\n",
              "      <th>1</th>\n",
              "      <td>good morning my name is xxxx xxxx and i apprec...</td>\n",
              "      <td>0</td>\n",
              "    </tr>\n",
              "    <tr>\n",
              "      <th>2</th>\n",
              "      <td>i upgraded my xxxx xxxx card in xx/xx/ and was...</td>\n",
              "      <td>3</td>\n",
              "    </tr>\n",
              "    <tr>\n",
              "      <th>10</th>\n",
              "      <td>chase card was reported on xx/xx/. however, fr...</td>\n",
              "      <td>1</td>\n",
              "    </tr>\n",
              "    <tr>\n",
              "      <th>11</th>\n",
              "      <td>on xx/xx/, while trying to book a xxxx  xxxx  ...</td>\n",
              "      <td>1</td>\n",
              "    </tr>\n",
              "    <tr>\n",
              "      <th>14</th>\n",
              "      <td>my grand son give me check for {$.} i deposit ...</td>\n",
              "      <td>0</td>\n",
              "    </tr>\n",
              "  </tbody>\n",
              "</table>\n",
              "</div>\n",
              "      <button class=\"colab-df-convert\" onclick=\"convertToInteractive('df-bc45bef3-e66c-4186-b672-7163c2d3737f')\"\n",
              "              title=\"Convert this dataframe to an interactive table.\"\n",
              "              style=\"display:none;\">\n",
              "        \n",
              "  <svg xmlns=\"http://www.w3.org/2000/svg\" height=\"24px\"viewBox=\"0 0 24 24\"\n",
              "       width=\"24px\">\n",
              "    <path d=\"M0 0h24v24H0V0z\" fill=\"none\"/>\n",
              "    <path d=\"M18.56 5.44l.94 2.06.94-2.06 2.06-.94-2.06-.94-.94-2.06-.94 2.06-2.06.94zm-11 1L8.5 8.5l.94-2.06 2.06-.94-2.06-.94L8.5 2.5l-.94 2.06-2.06.94zm10 10l.94 2.06.94-2.06 2.06-.94-2.06-.94-.94-2.06-.94 2.06-2.06.94z\"/><path d=\"M17.41 7.96l-1.37-1.37c-.4-.4-.92-.59-1.43-.59-.52 0-1.04.2-1.43.59L10.3 9.45l-7.72 7.72c-.78.78-.78 2.05 0 2.83L4 21.41c.39.39.9.59 1.41.59.51 0 1.02-.2 1.41-.59l7.78-7.78 2.81-2.81c.8-.78.8-2.07 0-2.86zM5.41 20L4 18.59l7.72-7.72 1.47 1.35L5.41 20z\"/>\n",
              "  </svg>\n",
              "      </button>\n",
              "      \n",
              "  <style>\n",
              "    .colab-df-container {\n",
              "      display:flex;\n",
              "      flex-wrap:wrap;\n",
              "      gap: 12px;\n",
              "    }\n",
              "\n",
              "    .colab-df-convert {\n",
              "      background-color: #E8F0FE;\n",
              "      border: none;\n",
              "      border-radius: 50%;\n",
              "      cursor: pointer;\n",
              "      display: none;\n",
              "      fill: #1967D2;\n",
              "      height: 32px;\n",
              "      padding: 0 0 0 0;\n",
              "      width: 32px;\n",
              "    }\n",
              "\n",
              "    .colab-df-convert:hover {\n",
              "      background-color: #E2EBFA;\n",
              "      box-shadow: 0px 1px 2px rgba(60, 64, 67, 0.3), 0px 1px 3px 1px rgba(60, 64, 67, 0.15);\n",
              "      fill: #174EA6;\n",
              "    }\n",
              "\n",
              "    [theme=dark] .colab-df-convert {\n",
              "      background-color: #3B4455;\n",
              "      fill: #D2E3FC;\n",
              "    }\n",
              "\n",
              "    [theme=dark] .colab-df-convert:hover {\n",
              "      background-color: #434B5C;\n",
              "      box-shadow: 0px 1px 3px 1px rgba(0, 0, 0, 0.15);\n",
              "      filter: drop-shadow(0px 1px 2px rgba(0, 0, 0, 0.3));\n",
              "      fill: #FFFFFF;\n",
              "    }\n",
              "  </style>\n",
              "\n",
              "      <script>\n",
              "        const buttonEl =\n",
              "          document.querySelector('#df-bc45bef3-e66c-4186-b672-7163c2d3737f button.colab-df-convert');\n",
              "        buttonEl.style.display =\n",
              "          google.colab.kernel.accessAllowed ? 'block' : 'none';\n",
              "\n",
              "        async function convertToInteractive(key) {\n",
              "          const element = document.querySelector('#df-bc45bef3-e66c-4186-b672-7163c2d3737f');\n",
              "          const dataTable =\n",
              "            await google.colab.kernel.invokeFunction('convertToInteractive',\n",
              "                                                     [key], {});\n",
              "          if (!dataTable) return;\n",
              "\n",
              "          const docLinkHtml = 'Like what you see? Visit the ' +\n",
              "            '<a target=\"_blank\" href=https://colab.research.google.com/notebooks/data_table.ipynb>data table notebook</a>'\n",
              "            + ' to learn more about interactive tables.';\n",
              "          element.innerHTML = '';\n",
              "          dataTable['output_type'] = 'display_data';\n",
              "          await google.colab.output.renderOutput(dataTable, element);\n",
              "          const docLink = document.createElement('div');\n",
              "          docLink.innerHTML = docLinkHtml;\n",
              "          element.appendChild(docLink);\n",
              "        }\n",
              "      </script>\n",
              "    </div>\n",
              "  </div>\n",
              "  "
            ]
          },
          "metadata": {},
          "execution_count": 63
        }
      ]
    },
    {
      "cell_type": "code",
      "source": [
        "# Finding the frequency of occurance of each values\n",
        "ticket_system_model_training['Topic'].value_counts()\n",
        "\n",
        "# Finding the percentage of the frequency of each values\n",
        "ticket_system_model_training['Topic'].value_counts(normalize = True)\n",
        "\n",
        "# Visualising the frequency\n",
        "sns.countplot(x = 'Topic', data = ticket_system_model_training)"
      ],
      "metadata": {
        "colab": {
          "base_uri": "https://localhost:8080/",
          "height": 470
        },
        "id": "WsBD_QoKRa7s",
        "outputId": "d908c1f3-5e5a-4eb4-a4f5-f8d442a145c4"
      },
      "execution_count": 64,
      "outputs": [
        {
          "output_type": "execute_result",
          "data": {
            "text/plain": [
              "0    5078\n",
              "3    5073\n",
              "1    4804\n",
              "2    3924\n",
              "4    2193\n",
              "Name: Topic, dtype: int64"
            ]
          },
          "metadata": {},
          "execution_count": 64
        },
        {
          "output_type": "execute_result",
          "data": {
            "text/plain": [
              "0    0.240983\n",
              "3    0.240746\n",
              "1    0.227980\n",
              "2    0.186219\n",
              "4    0.104072\n",
              "Name: Topic, dtype: float64"
            ]
          },
          "metadata": {},
          "execution_count": 64
        },
        {
          "output_type": "execute_result",
          "data": {
            "text/plain": [
              "<matplotlib.axes._subplots.AxesSubplot at 0x7fbb68cb8a30>"
            ]
          },
          "metadata": {},
          "execution_count": 64
        },
        {
          "output_type": "display_data",
          "data": {
            "text/plain": [
              "<Figure size 432x288 with 1 Axes>"
            ],
            "image/png": "[encoded data removed]"
          },
          "metadata": {
            "needs_background": "light"
          }
        }
      ]
    },
    {
      "cell_type": "code",
      "source": [],
      "metadata": {
        "id": "aST_y4YYpAg0"
      },
      "execution_count": null,
      "outputs": []
    },
    {
      "cell_type": "code",
      "source": [],
      "metadata": {
        "id": "Dh6kOUNypAdX"
      },
      "execution_count": null,
      "outputs": []
    },
    {
      "cell_type": "markdown",
      "source": [
        "***Creating Vector Counts & Transforming word vector to tf-idf***"
      ],
      "metadata": {
        "id": "7on8bbEeora-"
      }
    },
    {
      "cell_type": "code",
      "source": [
        "extract_vector = CountVectorizer()\n",
        "transform_vector_to_tfidf = extract_vector.fit_transform(ticket_system_model_training['complaint_what_happened'])"
      ],
      "metadata": {
        "id": "mW0MBX0YSNKS"
      },
      "execution_count": 65,
      "outputs": []
    },
    {
      "cell_type": "code",
      "source": [
        "import pickle\n",
        "pickle.dump(extract_vector.vocabulary_, open(\"/content/drive/MyDrive/Assignment1/Assignment1/count_vector.pkl\", \"wb\"))"
      ],
      "metadata": {
        "id": "wPqpQotyTF-F"
      },
      "execution_count": 66,
      "outputs": []
    },
    {
      "cell_type": "code",
      "source": [
        "transform_vector = TfidfTransformer()\n",
        "x_train_tfidf = transform_vector.fit_transform(transform_vector_to_tfidf)"
      ],
      "metadata": {
        "id": "vMZp9hczTc7N"
      },
      "execution_count": 67,
      "outputs": []
    },
    {
      "cell_type": "code",
      "source": [
        "pickle.dump(transform_vector, open(\"/content/drive/MyDrive/Assignment1/Assignment1/tfidf_vector.pkl\", \"wb\"))"
      ],
      "metadata": {
        "id": "03XbwlV8UQDH"
      },
      "execution_count": 68,
      "outputs": []
    },
    {
      "cell_type": "code",
      "source": [],
      "metadata": {
        "id": "D5_xHctlo-uX"
      },
      "execution_count": null,
      "outputs": []
    },
    {
      "cell_type": "code",
      "source": [],
      "metadata": {
        "id": "k7MtN5jXo-rM"
      },
      "execution_count": null,
      "outputs": []
    },
    {
      "cell_type": "markdown",
      "source": [
        "**Dataset Preparation for Supervised Model Training**"
      ],
      "metadata": {
        "id": "4AB7-Og-o3r3"
      }
    },
    {
      "cell_type": "code",
      "source": [
        "# Splitting the dataset into training and testing set for supervised model training and evaluation\n",
        "from sklearn.model_selection import train_test_split\n",
        "x_train, x_test, y_train, y_test = train_test_split(x_train_tfidf, ticket_system_model_training.Topic, test_size = 0.25, random_state = 47)"
      ],
      "metadata": {
        "id": "-LYfsYLhUedJ"
      },
      "execution_count": 70,
      "outputs": []
    },
    {
      "cell_type": "code",
      "source": [
        "# Getting the dataset shapes for each training and testing sets\n",
        "x_train.shape, y_train.shape\n",
        "x_test.shape, y_test.shape"
      ],
      "metadata": {
        "colab": {
          "base_uri": "https://localhost:8080/"
        },
        "id": "XDkZv9jfUyhK",
        "outputId": "349f5850-8828-41de-97e9-1f87ed35cf70"
      },
      "execution_count": 71,
      "outputs": [
        {
          "output_type": "execute_result",
          "data": {
            "text/plain": [
              "((15804, 27984), (15804,))"
            ]
          },
          "metadata": {},
          "execution_count": 71
        },
        {
          "output_type": "execute_result",
          "data": {
            "text/plain": [
              "((5268, 27984), (5268,))"
            ]
          },
          "metadata": {},
          "execution_count": 71
        }
      ]
    },
    {
      "cell_type": "code",
      "source": [],
      "metadata": {
        "id": "GkgW_dSdrhuo"
      },
      "execution_count": null,
      "outputs": []
    },
    {
      "cell_type": "code",
      "source": [],
      "metadata": {
        "id": "Pv3u9QN9rhbH"
      },
      "execution_count": null,
      "outputs": []
    },
    {
      "cell_type": "code",
      "source": [
        "# Custom method for plotting the Confusion Matrix\n",
        "def plot_confusion_matrix(cm, classes,\n",
        "                          normalize=False,\n",
        "                          title='Confusion matrix',\n",
        "                          cmap=plt.cm.Blues):\n",
        "    if normalize:\n",
        "        cm = cm.astype('float') / cm.sum(axis=1)[:, np.newaxis]\n",
        "        print(\"Normalized confusion matrix\")\n",
        "    else:\n",
        "        print('Confusion matrix, without normalization')\n",
        "\n",
        "    plt.imshow(cm, interpolation='nearest', cmap=cmap)\n",
        "    plt.title(title)\n",
        "    plt.colorbar()\n",
        "    tick_marks = np.arange(len(classes))\n",
        "    plt.xticks(tick_marks, classes, rotation=45)\n",
        "    plt.yticks(tick_marks, classes)\n",
        "\n",
        "    fmt = '.2f' if normalize else 'd'\n",
        "    thresh = cm.max() / 2.\n",
        "    for i, j in itertools.product(range(cm.shape[0]), range(cm.shape[1])):\n",
        "        plt.text(j, i, format(cm[i, j], fmt),\n",
        "                 horizontalalignment=\"center\",\n",
        "                 color=\"white\" if cm[i, j] > thresh else \"black\")\n",
        "\n",
        "    plt.ylabel('True label')\n",
        "    plt.xlabel('Predicted label')"
      ],
      "metadata": {
        "id": "8EQKObnEX45l"
      },
      "execution_count": 79,
      "outputs": []
    },
    {
      "cell_type": "code",
      "source": [],
      "metadata": {
        "id": "-qTKuIkqq-uc"
      },
      "execution_count": null,
      "outputs": []
    },
    {
      "cell_type": "code",
      "source": [],
      "metadata": {
        "id": "6fOQwab0q-q0"
      },
      "execution_count": null,
      "outputs": []
    },
    {
      "cell_type": "markdown",
      "source": [
        "***Logistic Regression***\n"
      ],
      "metadata": {
        "id": "3ZhvZ7F7pO2t"
      }
    },
    {
      "cell_type": "code",
      "source": [
        "log_reg = LogisticRegression()\n",
        "log_reg.fit(x_train, y_train)"
      ],
      "metadata": {
        "colab": {
          "base_uri": "https://localhost:8080/"
        },
        "id": "pjmgIY5GWht4",
        "outputId": "cf710665-1d2a-49fc-91cc-c262c5f0daa0"
      },
      "execution_count": 73,
      "outputs": [
        {
          "output_type": "execute_result",
          "data": {
            "text/plain": [
              "LogisticRegression()"
            ]
          },
          "metadata": {},
          "execution_count": 73
        }
      ]
    },
    {
      "cell_type": "code",
      "source": [
        "y_pred_log_reg = log_reg.predict(x_test)"
      ],
      "metadata": {
        "id": "XEH8YO2LWq5b"
      },
      "execution_count": 76,
      "outputs": []
    },
    {
      "cell_type": "code",
      "source": [
        "accuracy_score(y_test, y_pred_log_reg)"
      ],
      "metadata": {
        "colab": {
          "base_uri": "https://localhost:8080/"
        },
        "id": "Qshy6i-GXW8w",
        "outputId": "502e85c6-4589-49e7-bb25-4b52d92aab27"
      },
      "execution_count": 77,
      "outputs": [
        {
          "output_type": "execute_result",
          "data": {
            "text/plain": [
              "0.9174259681093394"
            ]
          },
          "metadata": {},
          "execution_count": 77
        }
      ]
    },
    {
      "cell_type": "code",
      "source": [
        "print(classification_report(y_test, y_pred_log_reg))"
      ],
      "metadata": {
        "colab": {
          "base_uri": "https://localhost:8080/"
        },
        "id": "HqOPXKRJXW5P",
        "outputId": "2fbeae96-9059-44f1-ca8b-b1017ee9df10"
      },
      "execution_count": 78,
      "outputs": [
        {
          "output_type": "stream",
          "name": "stdout",
          "text": [
            "              precision    recall  f1-score   support\n",
            "\n",
            "           0       0.93      0.95      0.94      1286\n",
            "           1       0.91      0.92      0.92      1233\n",
            "           2       0.92      0.93      0.92       983\n",
            "           3       0.90      0.90      0.90      1227\n",
            "           4       0.95      0.85      0.90       539\n",
            "\n",
            "    accuracy                           0.92      5268\n",
            "   macro avg       0.92      0.91      0.92      5268\n",
            "weighted avg       0.92      0.92      0.92      5268\n",
            "\n"
          ]
        }
      ]
    },
    {
      "cell_type": "code",
      "source": [
        "confussion_matrix = confusion_matrix(y_test, y_pred_log_reg)\n",
        "np.set_printoptions(precision=2)"
      ],
      "metadata": {
        "id": "KoDVw8vAXW3N"
      },
      "execution_count": 81,
      "outputs": []
    },
    {
      "cell_type": "code",
      "source": [
        "plt.figure()\n",
        "plot_confusion_matrix(confussion_matrix, classes=['Banking Service', 'Card', 'Others', 'Fraudulent Reporting', 'Loans'], title='Confusion Matrix')"
      ],
      "metadata": {
        "colab": {
          "base_uri": "https://localhost:8080/",
          "height": 384
        },
        "id": "YGaHwA_3XW0U",
        "outputId": "09225060-d0e3-4770-ae76-c1482d7a1810"
      },
      "execution_count": 83,
      "outputs": [
        {
          "output_type": "execute_result",
          "data": {
            "text/plain": [
              "<Figure size 432x288 with 0 Axes>"
            ]
          },
          "metadata": {},
          "execution_count": 83
        },
        {
          "output_type": "stream",
          "name": "stdout",
          "text": [
            "Confusion matrix, without normalization\n"
          ]
        },
        {
          "output_type": "display_data",
          "data": {
            "text/plain": [
              "<Figure size 432x288 with 2 Axes>"
            ],
            "image/png": "[encoded data removed]"
          },
          "metadata": {
            "needs_background": "light"
          }
        }
      ]
    },
    {
      "cell_type": "code",
      "source": [],
      "metadata": {
        "id": "jSOA_wEAq9hv"
      },
      "execution_count": null,
      "outputs": []
    },
    {
      "cell_type": "code",
      "source": [],
      "metadata": {
        "id": "uWIsWBRUq9Tl"
      },
      "execution_count": null,
      "outputs": []
    },
    {
      "cell_type": "markdown",
      "source": [
        "**Logistic Regression - Hyperparameter Tuning**"
      ],
      "metadata": {
        "id": "n2-G-Lk2pcjV"
      }
    },
    {
      "cell_type": "code",
      "source": [
        "param_logistic_reg = {\"penalty\" : ['l2', 'l1', 'elasticnet'],\n",
        "                     \"C\" : np.logspace(-3,10,7),}"
      ],
      "metadata": {
        "id": "OwFOr2PjZk6Y"
      },
      "execution_count": 105,
      "outputs": []
    },
    {
      "cell_type": "code",
      "source": [
        "log_reg_hyper_tuned = GridSearchCV(estimator=log_reg, param_grid=param_logistic_reg, cv=10, n_jobs=-1)"
      ],
      "metadata": {
        "id": "wNioDTVLZk22"
      },
      "execution_count": 106,
      "outputs": []
    },
    {
      "cell_type": "code",
      "source": [
        "log_reg_hyper_tuned.fit(x_train, y_train)"
      ],
      "metadata": {
        "colab": {
          "base_uri": "https://localhost:8080/"
        },
        "id": "L8gDmPrVZk0R",
        "outputId": "84f0f2a4-6352-47ca-c7ce-0569976a20e5"
      },
      "execution_count": 107,
      "outputs": [
        {
          "output_type": "execute_result",
          "data": {
            "text/plain": [
              "GridSearchCV(cv=10, estimator=LogisticRegression(), n_jobs=-1,\n",
              "             param_grid={'C': array([1.00e-03, 1.47e-01, 2.15e+01, 3.16e+03, 4.64e+05, 6.81e+07,\n",
              "       1.00e+10]),\n",
              "                         'penalty': ['l2', 'l1', 'elasticnet']})"
            ]
          },
          "metadata": {},
          "execution_count": 107
        }
      ]
    },
    {
      "cell_type": "code",
      "source": [
        "log_reg_hyper_tuned.best_estimator_"
      ],
      "metadata": {
        "colab": {
          "base_uri": "https://localhost:8080/"
        },
        "id": "ODeWDO_tZkxf",
        "outputId": "7321f578-8e58-48c4-edbb-0316bcdc8979"
      },
      "execution_count": 108,
      "outputs": [
        {
          "output_type": "execute_result",
          "data": {
            "text/plain": [
              "LogisticRegression(C=3162.2776601683795)"
            ]
          },
          "metadata": {},
          "execution_count": 108
        }
      ]
    },
    {
      "cell_type": "code",
      "source": [
        "log_reg = LogisticRegression(C=3162.2776601683795)\n",
        "log_reg.fit(x_train, y_train)"
      ],
      "metadata": {
        "colab": {
          "base_uri": "https://localhost:8080/"
        },
        "id": "rCUvXUDtZku3",
        "outputId": "614f9f2d-48ab-4e32-d15d-541d949089e1"
      },
      "execution_count": 109,
      "outputs": [
        {
          "output_type": "execute_result",
          "data": {
            "text/plain": [
              "LogisticRegression(C=3162.2776601683795)"
            ]
          },
          "metadata": {},
          "execution_count": 109
        }
      ]
    },
    {
      "cell_type": "code",
      "source": [
        "y_pred_log_reg_hypertuned = log_reg.predict(x_test)"
      ],
      "metadata": {
        "id": "MFJOV2BCZksO"
      },
      "execution_count": 110,
      "outputs": []
    },
    {
      "cell_type": "code",
      "source": [
        "accuracy_score(y_test, y_pred_log_reg_hypertuned)"
      ],
      "metadata": {
        "colab": {
          "base_uri": "https://localhost:8080/"
        },
        "id": "4Ib1ZlB7Zkpp",
        "outputId": "26e323ef-20ab-41f0-c82d-0cb67487698b"
      },
      "execution_count": 111,
      "outputs": [
        {
          "output_type": "execute_result",
          "data": {
            "text/plain": [
              "0.9198936977980258"
            ]
          },
          "metadata": {},
          "execution_count": 111
        }
      ]
    },
    {
      "cell_type": "code",
      "source": [
        "print(classification_report(y_test, y_pred_log_reg_hypertuned))"
      ],
      "metadata": {
        "colab": {
          "base_uri": "https://localhost:8080/"
        },
        "id": "TpOoKGr-ZknK",
        "outputId": "2c13ee97-757c-4af5-dd51-6496cef7e3ac"
      },
      "execution_count": 112,
      "outputs": [
        {
          "output_type": "stream",
          "name": "stdout",
          "text": [
            "              precision    recall  f1-score   support\n",
            "\n",
            "           0       0.93      0.94      0.93      1286\n",
            "           1       0.92      0.93      0.93      1233\n",
            "           2       0.93      0.94      0.93       983\n",
            "           3       0.89      0.89      0.89      1227\n",
            "           4       0.93      0.90      0.91       539\n",
            "\n",
            "    accuracy                           0.92      5268\n",
            "   macro avg       0.92      0.92      0.92      5268\n",
            "weighted avg       0.92      0.92      0.92      5268\n",
            "\n"
          ]
        }
      ]
    },
    {
      "cell_type": "code",
      "source": [
        "confussion_matrix = confusion_matrix(y_test, y_pred_log_reg_hypertuned)\n",
        "np.set_printoptions(precision=2)"
      ],
      "metadata": {
        "id": "6yJbP6FxXWrD"
      },
      "execution_count": 113,
      "outputs": []
    },
    {
      "cell_type": "code",
      "source": [
        "plt.figure()\n",
        "plot_confusion_matrix(confussion_matrix, classes=['Banking Service', 'Card', 'Others', 'Fraudulent Reporting', 'Loans'], title='Confusion Matrix')"
      ],
      "metadata": {
        "colab": {
          "base_uri": "https://localhost:8080/",
          "height": 384
        },
        "id": "zJRd4-3HXWht",
        "outputId": "c1f35bcd-a743-449f-bfef-71f2c6709b32"
      },
      "execution_count": 114,
      "outputs": [
        {
          "output_type": "execute_result",
          "data": {
            "text/plain": [
              "<Figure size 432x288 with 0 Axes>"
            ]
          },
          "metadata": {},
          "execution_count": 114
        },
        {
          "output_type": "stream",
          "name": "stdout",
          "text": [
            "Confusion matrix, without normalization\n"
          ]
        },
        {
          "output_type": "display_data",
          "data": {
            "text/plain": [
              "<Figure size 432x288 with 2 Axes>"
            ],
            "image/png": "[encoded data removed]"
          },
          "metadata": {
            "needs_background": "light"
          }
        }
      ]
    },
    {
      "cell_type": "code",
      "source": [],
      "metadata": {
        "id": "mHkvpsDpqU_5"
      },
      "execution_count": null,
      "outputs": []
    },
    {
      "cell_type": "code",
      "source": [],
      "metadata": {
        "id": "CHFEhR3ZqU8Q"
      },
      "execution_count": null,
      "outputs": []
    },
    {
      "cell_type": "markdown",
      "source": [
        "***Random Forest***"
      ],
      "metadata": {
        "id": "5fJMMiu6qf9_"
      }
    },
    {
      "cell_type": "code",
      "source": [
        "random_forest = RandomForestClassifier()\n",
        "random_forest.fit(x_train, y_train)"
      ],
      "metadata": {
        "colab": {
          "base_uri": "https://localhost:8080/"
        },
        "id": "X9837mGnWyw6",
        "outputId": "0f7588ff-9209-482f-f072-fa1601c2f33a"
      },
      "execution_count": 87,
      "outputs": [
        {
          "output_type": "execute_result",
          "data": {
            "text/plain": [
              "RandomForestClassifier()"
            ]
          },
          "metadata": {},
          "execution_count": 87
        }
      ]
    },
    {
      "cell_type": "code",
      "source": [
        "y_pred_random_forest = random_forest.predict(x_test)"
      ],
      "metadata": {
        "id": "TudaD_kRXVzM"
      },
      "execution_count": 88,
      "outputs": []
    },
    {
      "cell_type": "code",
      "source": [
        "accuracy_score(y_test, y_pred_random_forest)"
      ],
      "metadata": {
        "colab": {
          "base_uri": "https://localhost:8080/"
        },
        "id": "kH-eLU6kabDO",
        "outputId": "1ecd1101-43c2-42ae-98f4-98770cd7ecb1"
      },
      "execution_count": 89,
      "outputs": [
        {
          "output_type": "execute_result",
          "data": {
            "text/plain": [
              "0.816628701594533"
            ]
          },
          "metadata": {},
          "execution_count": 89
        }
      ]
    },
    {
      "cell_type": "code",
      "source": [
        "print(classification_report(y_test, y_pred_random_forest))"
      ],
      "metadata": {
        "colab": {
          "base_uri": "https://localhost:8080/"
        },
        "id": "INtzY4XmafdN",
        "outputId": "0289bd75-0a55-4dbd-ebfa-643bea80ac05"
      },
      "execution_count": 90,
      "outputs": [
        {
          "output_type": "stream",
          "name": "stdout",
          "text": [
            "              precision    recall  f1-score   support\n",
            "\n",
            "           0       0.80      0.91      0.85      1286\n",
            "           1       0.80      0.86      0.83      1233\n",
            "           2       0.86      0.86      0.86       983\n",
            "           3       0.79      0.82      0.80      1227\n",
            "           4       0.95      0.41      0.57       539\n",
            "\n",
            "    accuracy                           0.82      5268\n",
            "   macro avg       0.84      0.77      0.78      5268\n",
            "weighted avg       0.83      0.82      0.81      5268\n",
            "\n"
          ]
        }
      ]
    },
    {
      "cell_type": "code",
      "source": [
        "confussion_matrix = confusion_matrix(y_test, y_pred_random_forest)\n",
        "np.set_printoptions(precision=2)"
      ],
      "metadata": {
        "id": "g22cuVQcakpE"
      },
      "execution_count": 91,
      "outputs": []
    },
    {
      "cell_type": "code",
      "source": [
        "plt.figure()\n",
        "plot_confusion_matrix(confussion_matrix, classes=['Banking Service', 'Card', 'Others', 'Fraudulent Reporting', 'Loans'], title='Confusion Matrix')"
      ],
      "metadata": {
        "colab": {
          "base_uri": "https://localhost:8080/",
          "height": 384
        },
        "id": "foCXCgF1arHS",
        "outputId": "1e14e53e-2643-47f5-f153-4ed6aa871ed7"
      },
      "execution_count": 92,
      "outputs": [
        {
          "output_type": "execute_result",
          "data": {
            "text/plain": [
              "<Figure size 432x288 with 0 Axes>"
            ]
          },
          "metadata": {},
          "execution_count": 92
        },
        {
          "output_type": "stream",
          "name": "stdout",
          "text": [
            "Confusion matrix, without normalization\n"
          ]
        },
        {
          "output_type": "display_data",
          "data": {
            "text/plain": [
              "<Figure size 432x288 with 2 Axes>"
            ],
            "image/png": "[encoded data removed]"
          },
          "metadata": {
            "needs_background": "light"
          }
        }
      ]
    },
    {
      "cell_type": "code",
      "source": [],
      "metadata": {
        "id": "Q4PspeKEq3RE"
      },
      "execution_count": null,
      "outputs": []
    },
    {
      "cell_type": "code",
      "source": [],
      "metadata": {
        "id": "-_CIUmpErUs1"
      },
      "execution_count": null,
      "outputs": []
    },
    {
      "cell_type": "markdown",
      "source": [
        "***Random Forest - Hyperparameter Tuning***"
      ],
      "metadata": {
        "id": "Nk1OzwMirP6O"
      }
    },
    {
      "cell_type": "code",
      "source": [
        "param_random_forest_grid = {\"n_estimators\": [int(x) for x in np.linspace(start=100, stop=1200, num=12)],\n",
        "             \"criterion\": [\"gini\", \"entropy\"],\n",
        "             \"max_depth\": [int(x) for x in np.linspace(5, 30, num=6)],\n",
        "             \"min_samples_split\": [2,5,10,15, 100],\n",
        "             \"min_samples_leaf\": [1,2,5,10],\n",
        "             \"max_features\": [\"auto\", \"sqrt\", \"log2\"]}"
      ],
      "metadata": {
        "id": "VlFe9l00augZ"
      },
      "execution_count": 93,
      "outputs": []
    },
    {
      "cell_type": "code",
      "source": [
        "random_forest_hypertuned = RandomizedSearchCV(estimator=random_forest, param_distributions=param_random_forest_grid, n_iter=10, n_jobs=1, cv=10, verbose=2)"
      ],
      "metadata": {
        "id": "sH5_qrWGa0FN"
      },
      "execution_count": 94,
      "outputs": []
    },
    {
      "cell_type": "code",
      "source": [
        "random_forest_hypertuned.fit(x_train, y_train)"
      ],
      "metadata": {
        "colab": {
          "base_uri": "https://localhost:8080/"
        },
        "id": "eYCZcep5a0Bq",
        "outputId": "bedfc56c-4c92-4f7f-eb8c-1db7bcacbb7e"
      },
      "execution_count": 95,
      "outputs": [
        {
          "output_type": "stream",
          "name": "stdout",
          "text": [
            "Fitting 10 folds for each of 10 candidates, totalling 100 fits\n",
            "[CV] END criterion=entropy, max_depth=10, max_features=log2, min_samples_leaf=5, min_samples_split=10, n_estimators=100; total time=   1.0s\n",
            "[CV] END criterion=entropy, max_depth=10, max_features=log2, min_samples_leaf=5, min_samples_split=10, n_estimators=100; total time=   1.0s\n",
            "[CV] END criterion=entropy, max_depth=10, max_features=log2, min_samples_leaf=5, min_samples_split=10, n_estimators=100; total time=   1.1s\n",
            "[CV] END criterion=entropy, max_depth=10, max_features=log2, min_samples_leaf=5, min_samples_split=10, n_estimators=100; total time=   1.1s\n",
            "[CV] END criterion=entropy, max_depth=10, max_features=log2, min_samples_leaf=5, min_samples_split=10, n_estimators=100; total time=   1.1s\n",
            "[CV] END criterion=entropy, max_depth=10, max_features=log2, min_samples_leaf=5, min_samples_split=10, n_estimators=100; total time=   1.0s\n",
            "[CV] END criterion=entropy, max_depth=10, max_features=log2, min_samples_leaf=5, min_samples_split=10, n_estimators=100; total time=   1.0s\n",
            "[CV] END criterion=entropy, max_depth=10, max_features=log2, min_samples_leaf=5, min_samples_split=10, n_estimators=100; total time=   1.0s\n",
            "[CV] END criterion=entropy, max_depth=10, max_features=log2, min_samples_leaf=5, min_samples_split=10, n_estimators=100; total time=   1.5s\n",
            "[CV] END criterion=entropy, max_depth=10, max_features=log2, min_samples_leaf=5, min_samples_split=10, n_estimators=100; total time=   1.5s\n",
            "[CV] END criterion=gini, max_depth=10, max_features=log2, min_samples_leaf=1, min_samples_split=10, n_estimators=900; total time=   9.4s\n",
            "[CV] END criterion=gini, max_depth=10, max_features=log2, min_samples_leaf=1, min_samples_split=10, n_estimators=900; total time=   9.2s\n",
            "[CV] END criterion=gini, max_depth=10, max_features=log2, min_samples_leaf=1, min_samples_split=10, n_estimators=900; total time=  10.2s\n",
            "[CV] END criterion=gini, max_depth=10, max_features=log2, min_samples_leaf=1, min_samples_split=10, n_estimators=900; total time=   9.1s\n",
            "[CV] END criterion=gini, max_depth=10, max_features=log2, min_samples_leaf=1, min_samples_split=10, n_estimators=900; total time=   9.2s\n",
            "[CV] END criterion=gini, max_depth=10, max_features=log2, min_samples_leaf=1, min_samples_split=10, n_estimators=900; total time=   9.2s\n",
            "[CV] END criterion=gini, max_depth=10, max_features=log2, min_samples_leaf=1, min_samples_split=10, n_estimators=900; total time=   9.0s\n",
            "[CV] END criterion=gini, max_depth=10, max_features=log2, min_samples_leaf=1, min_samples_split=10, n_estimators=900; total time=   9.0s\n",
            "[CV] END criterion=gini, max_depth=10, max_features=log2, min_samples_leaf=1, min_samples_split=10, n_estimators=900; total time=   9.1s\n",
            "[CV] END criterion=gini, max_depth=10, max_features=log2, min_samples_leaf=1, min_samples_split=10, n_estimators=900; total time=   9.0s\n",
            "[CV] END criterion=gini, max_depth=5, max_features=sqrt, min_samples_leaf=5, min_samples_split=5, n_estimators=400; total time=   7.0s\n",
            "[CV] END criterion=gini, max_depth=5, max_features=sqrt, min_samples_leaf=5, min_samples_split=5, n_estimators=400; total time=   7.0s\n",
            "[CV] END criterion=gini, max_depth=5, max_features=sqrt, min_samples_leaf=5, min_samples_split=5, n_estimators=400; total time=   7.0s\n",
            "[CV] END criterion=gini, max_depth=5, max_features=sqrt, min_samples_leaf=5, min_samples_split=5, n_estimators=400; total time=   6.9s\n",
            "[CV] END criterion=gini, max_depth=5, max_features=sqrt, min_samples_leaf=5, min_samples_split=5, n_estimators=400; total time=   6.9s\n",
            "[CV] END criterion=gini, max_depth=5, max_features=sqrt, min_samples_leaf=5, min_samples_split=5, n_estimators=400; total time=   6.9s\n",
            "[CV] END criterion=gini, max_depth=5, max_features=sqrt, min_samples_leaf=5, min_samples_split=5, n_estimators=400; total time=   6.9s\n",
            "[CV] END criterion=gini, max_depth=5, max_features=sqrt, min_samples_leaf=5, min_samples_split=5, n_estimators=400; total time=   7.0s\n",
            "[CV] END criterion=gini, max_depth=5, max_features=sqrt, min_samples_leaf=5, min_samples_split=5, n_estimators=400; total time=   6.9s\n",
            "[CV] END criterion=gini, max_depth=5, max_features=sqrt, min_samples_leaf=5, min_samples_split=5, n_estimators=400; total time=   7.0s\n",
            "[CV] END criterion=gini, max_depth=5, max_features=auto, min_samples_leaf=10, min_samples_split=15, n_estimators=200; total time=   3.9s\n",
            "[CV] END criterion=gini, max_depth=5, max_features=auto, min_samples_leaf=10, min_samples_split=15, n_estimators=200; total time=   4.2s\n",
            "[CV] END criterion=gini, max_depth=5, max_features=auto, min_samples_leaf=10, min_samples_split=15, n_estimators=200; total time=   3.4s\n",
            "[CV] END criterion=gini, max_depth=5, max_features=auto, min_samples_leaf=10, min_samples_split=15, n_estimators=200; total time=   3.4s\n",
            "[CV] END criterion=gini, max_depth=5, max_features=auto, min_samples_leaf=10, min_samples_split=15, n_estimators=200; total time=   3.5s\n",
            "[CV] END criterion=gini, max_depth=5, max_features=auto, min_samples_leaf=10, min_samples_split=15, n_estimators=200; total time=   3.4s\n",
            "[CV] END criterion=gini, max_depth=5, max_features=auto, min_samples_leaf=10, min_samples_split=15, n_estimators=200; total time=   3.4s\n",
            "[CV] END criterion=gini, max_depth=5, max_features=auto, min_samples_leaf=10, min_samples_split=15, n_estimators=200; total time=   4.7s\n",
            "[CV] END criterion=gini, max_depth=5, max_features=auto, min_samples_leaf=10, min_samples_split=15, n_estimators=200; total time=   3.5s\n",
            "[CV] END criterion=gini, max_depth=5, max_features=auto, min_samples_leaf=10, min_samples_split=15, n_estimators=200; total time=   3.4s\n",
            "[CV] END criterion=entropy, max_depth=25, max_features=log2, min_samples_leaf=2, min_samples_split=5, n_estimators=800; total time=  16.4s\n",
            "[CV] END criterion=entropy, max_depth=25, max_features=log2, min_samples_leaf=2, min_samples_split=5, n_estimators=800; total time=  16.7s\n",
            "[CV] END criterion=entropy, max_depth=25, max_features=log2, min_samples_leaf=2, min_samples_split=5, n_estimators=800; total time=  16.5s\n",
            "[CV] END criterion=entropy, max_depth=25, max_features=log2, min_samples_leaf=2, min_samples_split=5, n_estimators=800; total time=  16.6s\n",
            "[CV] END criterion=entropy, max_depth=25, max_features=log2, min_samples_leaf=2, min_samples_split=5, n_estimators=800; total time=  16.5s\n",
            "[CV] END criterion=entropy, max_depth=25, max_features=log2, min_samples_leaf=2, min_samples_split=5, n_estimators=800; total time=  16.7s\n",
            "[CV] END criterion=entropy, max_depth=25, max_features=log2, min_samples_leaf=2, min_samples_split=5, n_estimators=800; total time=  16.5s\n",
            "[CV] END criterion=entropy, max_depth=25, max_features=log2, min_samples_leaf=2, min_samples_split=5, n_estimators=800; total time=  16.4s\n",
            "[CV] END criterion=entropy, max_depth=25, max_features=log2, min_samples_leaf=2, min_samples_split=5, n_estimators=800; total time=  17.7s\n",
            "[CV] END criterion=entropy, max_depth=25, max_features=log2, min_samples_leaf=2, min_samples_split=5, n_estimators=800; total time=  17.6s\n",
            "[CV] END criterion=gini, max_depth=10, max_features=auto, min_samples_leaf=5, min_samples_split=10, n_estimators=900; total time=  30.6s\n",
            "[CV] END criterion=gini, max_depth=10, max_features=auto, min_samples_leaf=5, min_samples_split=10, n_estimators=900; total time=  30.7s\n",
            "[CV] END criterion=gini, max_depth=10, max_features=auto, min_samples_leaf=5, min_samples_split=10, n_estimators=900; total time=  31.2s\n",
            "[CV] END criterion=gini, max_depth=10, max_features=auto, min_samples_leaf=5, min_samples_split=10, n_estimators=900; total time=  30.6s\n",
            "[CV] END criterion=gini, max_depth=10, max_features=auto, min_samples_leaf=5, min_samples_split=10, n_estimators=900; total time=  31.9s\n",
            "[CV] END criterion=gini, max_depth=10, max_features=auto, min_samples_leaf=5, min_samples_split=10, n_estimators=900; total time=  33.4s\n",
            "[CV] END criterion=gini, max_depth=10, max_features=auto, min_samples_leaf=5, min_samples_split=10, n_estimators=900; total time=  30.8s\n",
            "[CV] END criterion=gini, max_depth=10, max_features=auto, min_samples_leaf=5, min_samples_split=10, n_estimators=900; total time=  30.7s\n",
            "[CV] END criterion=gini, max_depth=10, max_features=auto, min_samples_leaf=5, min_samples_split=10, n_estimators=900; total time=  30.4s\n",
            "[CV] END criterion=gini, max_depth=10, max_features=auto, min_samples_leaf=5, min_samples_split=10, n_estimators=900; total time=  32.0s\n",
            "[CV] END criterion=entropy, max_depth=25, max_features=sqrt, min_samples_leaf=10, min_samples_split=10, n_estimators=800; total time= 1.2min\n",
            "[CV] END criterion=entropy, max_depth=25, max_features=sqrt, min_samples_leaf=10, min_samples_split=10, n_estimators=800; total time= 1.2min\n",
            "[CV] END criterion=entropy, max_depth=25, max_features=sqrt, min_samples_leaf=10, min_samples_split=10, n_estimators=800; total time= 1.2min\n",
            "[CV] END criterion=entropy, max_depth=25, max_features=sqrt, min_samples_leaf=10, min_samples_split=10, n_estimators=800; total time= 1.2min\n",
            "[CV] END criterion=entropy, max_depth=25, max_features=sqrt, min_samples_leaf=10, min_samples_split=10, n_estimators=800; total time= 1.2min\n",
            "[CV] END criterion=entropy, max_depth=25, max_features=sqrt, min_samples_leaf=10, min_samples_split=10, n_estimators=800; total time= 1.2min\n",
            "[CV] END criterion=entropy, max_depth=25, max_features=sqrt, min_samples_leaf=10, min_samples_split=10, n_estimators=800; total time= 1.2min\n",
            "[CV] END criterion=entropy, max_depth=25, max_features=sqrt, min_samples_leaf=10, min_samples_split=10, n_estimators=800; total time= 1.2min\n",
            "[CV] END criterion=entropy, max_depth=25, max_features=sqrt, min_samples_leaf=10, min_samples_split=10, n_estimators=800; total time= 1.2min\n",
            "[CV] END criterion=entropy, max_depth=25, max_features=sqrt, min_samples_leaf=10, min_samples_split=10, n_estimators=800; total time= 1.2min\n",
            "[CV] END criterion=entropy, max_depth=25, max_features=auto, min_samples_leaf=10, min_samples_split=15, n_estimators=700; total time= 1.0min\n",
            "[CV] END criterion=entropy, max_depth=25, max_features=auto, min_samples_leaf=10, min_samples_split=15, n_estimators=700; total time= 1.1min\n",
            "[CV] END criterion=entropy, max_depth=25, max_features=auto, min_samples_leaf=10, min_samples_split=15, n_estimators=700; total time= 1.0min\n",
            "[CV] END criterion=entropy, max_depth=25, max_features=auto, min_samples_leaf=10, min_samples_split=15, n_estimators=700; total time= 1.0min\n",
            "[CV] END criterion=entropy, max_depth=25, max_features=auto, min_samples_leaf=10, min_samples_split=15, n_estimators=700; total time= 1.1min\n",
            "[CV] END criterion=entropy, max_depth=25, max_features=auto, min_samples_leaf=10, min_samples_split=15, n_estimators=700; total time= 1.0min\n",
            "[CV] END criterion=entropy, max_depth=25, max_features=auto, min_samples_leaf=10, min_samples_split=15, n_estimators=700; total time= 1.1min\n",
            "[CV] END criterion=entropy, max_depth=25, max_features=auto, min_samples_leaf=10, min_samples_split=15, n_estimators=700; total time= 1.1min\n",
            "[CV] END criterion=entropy, max_depth=25, max_features=auto, min_samples_leaf=10, min_samples_split=15, n_estimators=700; total time= 1.0min\n",
            "[CV] END criterion=entropy, max_depth=25, max_features=auto, min_samples_leaf=10, min_samples_split=15, n_estimators=700; total time= 1.1min\n",
            "[CV] END criterion=gini, max_depth=30, max_features=log2, min_samples_leaf=1, min_samples_split=15, n_estimators=1200; total time=  31.9s\n",
            "[CV] END criterion=gini, max_depth=30, max_features=log2, min_samples_leaf=1, min_samples_split=15, n_estimators=1200; total time=  31.9s\n",
            "[CV] END criterion=gini, max_depth=30, max_features=log2, min_samples_leaf=1, min_samples_split=15, n_estimators=1200; total time=  31.7s\n",
            "[CV] END criterion=gini, max_depth=30, max_features=log2, min_samples_leaf=1, min_samples_split=15, n_estimators=1200; total time=  31.7s\n",
            "[CV] END criterion=gini, max_depth=30, max_features=log2, min_samples_leaf=1, min_samples_split=15, n_estimators=1200; total time=  33.9s\n",
            "[CV] END criterion=gini, max_depth=30, max_features=log2, min_samples_leaf=1, min_samples_split=15, n_estimators=1200; total time=  31.8s\n",
            "[CV] END criterion=gini, max_depth=30, max_features=log2, min_samples_leaf=1, min_samples_split=15, n_estimators=1200; total time=  31.6s\n",
            "[CV] END criterion=gini, max_depth=30, max_features=log2, min_samples_leaf=1, min_samples_split=15, n_estimators=1200; total time=  31.7s\n",
            "[CV] END criterion=gini, max_depth=30, max_features=log2, min_samples_leaf=1, min_samples_split=15, n_estimators=1200; total time=  32.0s\n",
            "[CV] END criterion=gini, max_depth=30, max_features=log2, min_samples_leaf=1, min_samples_split=15, n_estimators=1200; total time=  33.8s\n",
            "[CV] END criterion=entropy, max_depth=20, max_features=log2, min_samples_leaf=2, min_samples_split=2, n_estimators=700; total time=  12.8s\n",
            "[CV] END criterion=entropy, max_depth=20, max_features=log2, min_samples_leaf=2, min_samples_split=2, n_estimators=700; total time=  12.8s\n",
            "[CV] END criterion=entropy, max_depth=20, max_features=log2, min_samples_leaf=2, min_samples_split=2, n_estimators=700; total time=  12.9s\n",
            "[CV] END criterion=entropy, max_depth=20, max_features=log2, min_samples_leaf=2, min_samples_split=2, n_estimators=700; total time=  12.6s\n",
            "[CV] END criterion=entropy, max_depth=20, max_features=log2, min_samples_leaf=2, min_samples_split=2, n_estimators=700; total time=  12.7s\n",
            "[CV] END criterion=entropy, max_depth=20, max_features=log2, min_samples_leaf=2, min_samples_split=2, n_estimators=700; total time=  12.8s\n",
            "[CV] END criterion=entropy, max_depth=20, max_features=log2, min_samples_leaf=2, min_samples_split=2, n_estimators=700; total time=  12.8s\n",
            "[CV] END criterion=entropy, max_depth=20, max_features=log2, min_samples_leaf=2, min_samples_split=2, n_estimators=700; total time=  12.7s\n",
            "[CV] END criterion=entropy, max_depth=20, max_features=log2, min_samples_leaf=2, min_samples_split=2, n_estimators=700; total time=  12.6s\n",
            "[CV] END criterion=entropy, max_depth=20, max_features=log2, min_samples_leaf=2, min_samples_split=2, n_estimators=700; total time=  12.5s\n"
          ]
        },
        {
          "output_type": "execute_result",
          "data": {
            "text/plain": [
              "RandomizedSearchCV(cv=10, estimator=RandomForestClassifier(), n_jobs=1,\n",
              "                   param_distributions={'criterion': ['gini', 'entropy'],\n",
              "                                        'max_depth': [5, 10, 15, 20, 25, 30],\n",
              "                                        'max_features': ['auto', 'sqrt',\n",
              "                                                         'log2'],\n",
              "                                        'min_samples_leaf': [1, 2, 5, 10],\n",
              "                                        'min_samples_split': [2, 5, 10, 15,\n",
              "                                                              100],\n",
              "                                        'n_estimators': [100, 200, 300, 400,\n",
              "                                                         500, 600, 700, 800,\n",
              "                                                         900, 1000, 1100,\n",
              "                                                         1200]},\n",
              "                   verbose=2)"
            ]
          },
          "metadata": {},
          "execution_count": 95
        }
      ]
    },
    {
      "cell_type": "code",
      "source": [
        "random_forest_hypertuned.best_estimator_"
      ],
      "metadata": {
        "colab": {
          "base_uri": "https://localhost:8080/"
        },
        "id": "Pi3JDOsoaz_U",
        "outputId": "4b4b035a-4bd5-4e77-eba1-7dbcd41ec018"
      },
      "execution_count": 96,
      "outputs": [
        {
          "output_type": "execute_result",
          "data": {
            "text/plain": [
              "RandomForestClassifier(criterion='entropy', max_depth=25, max_features='sqrt',\n",
              "                       min_samples_leaf=10, min_samples_split=10,\n",
              "                       n_estimators=800)"
            ]
          },
          "metadata": {},
          "execution_count": 96
        }
      ]
    },
    {
      "cell_type": "code",
      "source": [
        "random_forest =  RandomForestClassifier(criterion='entropy', max_depth=25, max_features='sqrt',\n",
        "                       min_samples_leaf=10, min_samples_split=10,\n",
        "                       n_estimators=800)"
      ],
      "metadata": {
        "id": "26jdSFG_az8v"
      },
      "execution_count": 97,
      "outputs": []
    },
    {
      "cell_type": "code",
      "source": [
        "random_forest.fit(x_train, y_train)"
      ],
      "metadata": {
        "colab": {
          "base_uri": "https://localhost:8080/"
        },
        "id": "AZkXFNhqaz6J",
        "outputId": "68071a4c-d684-4ea4-bc7b-00679450028c"
      },
      "execution_count": 98,
      "outputs": [
        {
          "output_type": "execute_result",
          "data": {
            "text/plain": [
              "RandomForestClassifier(criterion='entropy', max_depth=25, max_features='sqrt',\n",
              "                       min_samples_leaf=10, min_samples_split=10,\n",
              "                       n_estimators=800)"
            ]
          },
          "metadata": {},
          "execution_count": 98
        }
      ]
    },
    {
      "cell_type": "code",
      "source": [
        "y_pred_random_forest_hypertuned = random_forest.predict(x_test)"
      ],
      "metadata": {
        "id": "idwvvIASaz3y"
      },
      "execution_count": 99,
      "outputs": []
    },
    {
      "cell_type": "code",
      "source": [
        "accuracy_score(y_test, y_pred_random_forest_hypertuned)"
      ],
      "metadata": {
        "colab": {
          "base_uri": "https://localhost:8080/"
        },
        "id": "6Igt5OPDazy5",
        "outputId": "1997285e-7fdb-4f0c-afe7-5280ab78de61"
      },
      "execution_count": 100,
      "outputs": [
        {
          "output_type": "execute_result",
          "data": {
            "text/plain": [
              "0.7737281700835231"
            ]
          },
          "metadata": {},
          "execution_count": 100
        }
      ]
    },
    {
      "cell_type": "code",
      "source": [
        "print(classification_report(y_test, y_pred_random_forest_hypertuned))"
      ],
      "metadata": {
        "colab": {
          "base_uri": "https://localhost:8080/"
        },
        "id": "cEn2Y3mMazwK",
        "outputId": "40825381-582d-4743-e586-17d88e2c260e"
      },
      "execution_count": 101,
      "outputs": [
        {
          "output_type": "stream",
          "name": "stdout",
          "text": [
            "              precision    recall  f1-score   support\n",
            "\n",
            "           0       0.78      0.90      0.84      1286\n",
            "           1       0.72      0.85      0.78      1233\n",
            "           2       0.84      0.80      0.82       983\n",
            "           3       0.77      0.82      0.79      1227\n",
            "           4       0.99      0.15      0.26       539\n",
            "\n",
            "    accuracy                           0.77      5268\n",
            "   macro avg       0.82      0.70      0.70      5268\n",
            "weighted avg       0.79      0.77      0.75      5268\n",
            "\n"
          ]
        }
      ]
    },
    {
      "cell_type": "code",
      "source": [
        "confussion_matrix = confusion_matrix(y_test, y_pred_random_forest_hypertuned)\n",
        "np.set_printoptions(precision=2)"
      ],
      "metadata": {
        "id": "0QIB9Tg8azth"
      },
      "execution_count": 103,
      "outputs": []
    },
    {
      "cell_type": "code",
      "source": [
        "plt.figure()\n",
        "plot_confusion_matrix(confussion_matrix, classes=['Banking Service', 'Card', 'Others', 'Fraudulent Reporting', 'Loans'], title='Confusion Matrix')"
      ],
      "metadata": {
        "colab": {
          "base_uri": "https://localhost:8080/",
          "height": 384
        },
        "id": "r2qbs_DomjqS",
        "outputId": "bc82d806-75be-4d2f-f3f9-bac8cc231e49"
      },
      "execution_count": 104,
      "outputs": [
        {
          "output_type": "execute_result",
          "data": {
            "text/plain": [
              "<Figure size 432x288 with 0 Axes>"
            ]
          },
          "metadata": {},
          "execution_count": 104
        },
        {
          "output_type": "stream",
          "name": "stdout",
          "text": [
            "Confusion matrix, without normalization\n"
          ]
        },
        {
          "output_type": "display_data",
          "data": {
            "text/plain": [
              "<Figure size 432x288 with 2 Axes>"
            ],
            "image/png": "[encoded data removed]"
          },
          "metadata": {
            "needs_background": "light"
          }
        }
      ]
    },
    {
      "cell_type": "code",
      "source": [],
      "metadata": {
        "id": "wroSI0Pimscc"
      },
      "execution_count": 114,
      "outputs": []
    },
    {
      "cell_type": "code",
      "source": [],
      "metadata": {
        "id": "ah6Wa_pprsd0"
      },
      "execution_count": null,
      "outputs": []
    },
    {
      "cell_type": "markdown",
      "source": [
        "***XGBoost Classifier***"
      ],
      "metadata": {
        "id": "hGNyXmlj9ST3"
      }
    },
    {
      "cell_type": "code",
      "source": [
        "xgb_classifier = xgb.XGBClassifier()\n",
        "xgb_classifier.fit(x_train, y_train)"
      ],
      "metadata": {
        "colab": {
          "base_uri": "https://localhost:8080/"
        },
        "id": "ygC4wfm9rsaZ",
        "outputId": "82508700-781e-4dcf-c113-1573462ec78b"
      },
      "execution_count": 115,
      "outputs": [
        {
          "output_type": "execute_result",
          "data": {
            "text/plain": [
              "XGBClassifier(objective='multi:softprob')"
            ]
          },
          "metadata": {},
          "execution_count": 115
        }
      ]
    },
    {
      "cell_type": "code",
      "source": [
        "y_pred_xgb = xgb_classifier.predict(x_test)"
      ],
      "metadata": {
        "id": "SM6n9uSgr9GV"
      },
      "execution_count": 116,
      "outputs": []
    },
    {
      "cell_type": "code",
      "source": [
        "accuracy_score(y_test, y_pred_xgb)"
      ],
      "metadata": {
        "colab": {
          "base_uri": "https://localhost:8080/"
        },
        "id": "Q0bwMOE3sglV",
        "outputId": "7d652818-6a27-4241-e60c-c1296a59f198"
      },
      "execution_count": 117,
      "outputs": [
        {
          "output_type": "execute_result",
          "data": {
            "text/plain": [
              "0.8866742596810934"
            ]
          },
          "metadata": {},
          "execution_count": 117
        }
      ]
    },
    {
      "cell_type": "code",
      "source": [
        "print(classification_report(y_test, y_pred_xgb))"
      ],
      "metadata": {
        "colab": {
          "base_uri": "https://localhost:8080/"
        },
        "id": "WbsAe1Tqskzh",
        "outputId": "950ca7d9-e827-433c-b0da-176785578c95"
      },
      "execution_count": 118,
      "outputs": [
        {
          "output_type": "stream",
          "name": "stdout",
          "text": [
            "              precision    recall  f1-score   support\n",
            "\n",
            "           0       0.89      0.92      0.90      1286\n",
            "           1       0.90      0.91      0.90      1233\n",
            "           2       0.89      0.89      0.89       983\n",
            "           3       0.87      0.85      0.86      1227\n",
            "           4       0.89      0.85      0.87       539\n",
            "\n",
            "    accuracy                           0.89      5268\n",
            "   macro avg       0.89      0.88      0.88      5268\n",
            "weighted avg       0.89      0.89      0.89      5268\n",
            "\n"
          ]
        }
      ]
    },
    {
      "cell_type": "code",
      "source": [
        "confussion_matrix = confusion_matrix(y_test, y_pred_xgb)\n",
        "np.set_printoptions(precision=2)"
      ],
      "metadata": {
        "id": "kmDU2wGqsqFC"
      },
      "execution_count": 119,
      "outputs": []
    },
    {
      "cell_type": "code",
      "source": [
        "plt.figure()\n",
        "plot_confusion_matrix(confussion_matrix, classes=['Banking Service', 'Card', 'Others', 'Fraudulent Reporting', 'Loans'], title='Confusion Matrix')"
      ],
      "metadata": {
        "colab": {
          "base_uri": "https://localhost:8080/",
          "height": 384
        },
        "id": "tFvlTnoCsutS",
        "outputId": "8e3c52f9-2d60-4415-f4b8-1977d16d480c"
      },
      "execution_count": 125,
      "outputs": [
        {
          "output_type": "execute_result",
          "data": {
            "text/plain": [
              "<Figure size 432x288 with 0 Axes>"
            ]
          },
          "metadata": {},
          "execution_count": 125
        },
        {
          "output_type": "stream",
          "name": "stdout",
          "text": [
            "Confusion matrix, without normalization\n"
          ]
        },
        {
          "output_type": "display_data",
          "data": {
            "text/plain": [
              "<Figure size 432x288 with 2 Axes>"
            ],
            "image/png": "[encoded data removed]"
          },
          "metadata": {
            "needs_background": "light"
          }
        }
      ]
    },
    {
      "cell_type": "code",
      "source": [],
      "metadata": {
        "id": "z13c9i6IM9ev"
      },
      "execution_count": null,
      "outputs": []
    }
  ],
  "metadata": {
    "kernelspec": {
      "display_name": "Python 3",
      "language": "python",
      "name": "python3"
    },
    "language_info": {
      "codemirror_mode": {
        "name": "ipython",
        "version": 3
      },
      "file_extension": ".py",
      "mimetype": "text/x-python",
      "name": "python",
      "nbconvert_exporter": "python",
      "pygments_lexer": "ipython3",
      "version": "3.7.1"
    },
    "colab": {
      "provenance": []
    }
  },
  "nbformat": 4,
  "nbformat_minor": 0
}